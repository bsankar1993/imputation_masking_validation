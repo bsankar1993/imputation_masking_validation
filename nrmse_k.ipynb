{
 "cells": [
  {
   "cell_type": "code",
   "execution_count": 1,
   "metadata": {},
   "outputs": [
    {
     "name": "stderr",
     "output_type": "stream",
     "text": [
      "/Users/pinglab/opt/anaconda3/lib/python3.9/site-packages/pandas/core/computation/expressions.py:21: UserWarning: Pandas requires version '2.8.4' or newer of 'numexpr' (version '2.8.1' currently installed).\n",
      "  from pandas.core.computation.check import NUMEXPR_INSTALLED\n",
      "/Users/pinglab/opt/anaconda3/lib/python3.9/site-packages/pandas/core/arrays/masked.py:60: UserWarning: Pandas requires version '1.3.6' or newer of 'bottleneck' (version '1.3.4' currently installed).\n",
      "  from pandas.core import (\n"
     ]
    }
   ],
   "source": [
    "import pandas as pd\n",
    "import numpy as np\n",
    "import os\n",
    "\n",
    "filepath_common = 'proturn_output_'\n",
    "strains = ['aj','balbc', 'c57', 'cej', 'dba', 'fvb']\n",
    "exp = ['ctrl', 'iso']\n",
    "true_data_files = 'hl.out'\n",
    "mask = [1, 2, 3, 4, 5]\n",
    "folders = [filepath_common + s + '_' + e + '/' for s in strains for e in exp]\n",
    "output_dir = 'nrmse_k'\n",
    "os.makedirs(output_dir, exist_ok=True)\n",
    "\n",
    "\n",
    "    "
   ]
  },
  {
   "cell_type": "code",
   "execution_count": null,
   "metadata": {},
   "outputs": [],
   "source": []
  },
  {
   "cell_type": "code",
   "execution_count": null,
   "metadata": {},
   "outputs": [],
   "source": [
    "\n",
    "for m in mask:\n",
    "    sse_mask = 0\n",
    "    nf_mask = 0\n",
    "    for f in folders:\n",
    "        print(f)\n",
    "        true_path = f\"{f}{true_data_files}\"\n",
    "        imputed_path = f\"{f}ProTurn_imp_{m}.txt\"\n",
    "        \n",
    "        true = pd.read_csv(true_path, sep='\\t', low_memory=False)\n",
    "        true = true.loc[(true['R2'] >= 0.8)]\n",
    "        imputed_dmi = pd.read_csv(imputed_path, sep='\\t', low_memory=False)\n",
    "        imputed_dmi = imputed_dmi.loc[(imputed_dmi['R2'] >= 0.8)] #| (imputed_dmi['SS'] <= 0.05)]\n",
    "        imputed_dmi = imputed_dmi.loc[(imputed_dmi['k'] >= 0) & (imputed_dmi['k'] <= 50)]\n",
    "        \n",
    "        sse = 0\n",
    "        nf = 0\n",
    "        \n",
    "        for prot in imputed_dmi.Uniprot.unique():\n",
    "            if prot not in true.Uniprot.unique():\n",
    "                pass \n",
    "            else: \n",
    "                #imputed data for a specific protein\n",
    "                imp_prot = imputed_dmi.loc[imputed_dmi['Uniprot'] == prot].groupby(['ID', 'Uniprot']).agg({'k': 'mean'}).reset_index()\n",
    "                #true data for a specific protein\n",
    "                t = true.loc[true['Uniprot'] == prot][['ID', 'Uniprot','k']]\n",
    "                #find interesection of IDs between imputed and true data\n",
    "                imp_prot = imp_prot.loc[imp_prot['ID'].isin(t['ID'])]\n",
    "                t = t.loc[t['ID'].isin(imp_prot['ID'])]\n",
    "                #print(imp_prot)\n",
    "                #print(t)\n",
    "            \n",
    "                error = np.median(t['k']) - np.median(imp_prot['k'])\n",
    "                sse += error**2\n",
    "                nf += np.median(t['k'])**2\n",
    "                #print(sse, nf)\n",
    "        sse_mask += sse\n",
    "        nf_mask += nf\n",
    "    nrmse = np.sqrt(sse_mask/nf_mask) \n",
    "    print(f\"{nrmse} for {m}\")\n",
    "    #with open(f'{output_dir}/nrmse_k.csv', 'a') as f:\n",
    "    #            f.write(f'{nrmse},{m},dmi\\n')\n",
    "    break"
   ]
  },
  {
   "cell_type": "code",
   "execution_count": null,
   "metadata": {},
   "outputs": [],
   "source": []
  }
 ],
 "metadata": {
  "kernelspec": {
   "display_name": "dmi",
   "language": "python",
   "name": "python3"
  },
  "language_info": {
   "codemirror_mode": {
    "name": "ipython",
    "version": 3
   },
   "file_extension": ".py",
   "mimetype": "text/x-python",
   "name": "python",
   "nbconvert_exporter": "python",
   "pygments_lexer": "ipython3",
   "version": "3.9.12"
  }
 },
 "nbformat": 4,
 "nbformat_minor": 2
}
