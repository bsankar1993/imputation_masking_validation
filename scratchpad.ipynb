{
 "cells": [
  {
   "cell_type": "code",
   "execution_count": 16,
   "metadata": {},
   "outputs": [],
   "source": [
    "filepath_common = 'proturn_output_'\n",
    "strains = ['aj', 'balbc', 'c57', 'cej', 'dba', 'fvb']\n",
    "exp = ['ctrl', 'iso'] \n",
    "hl = 'hl.out'\n",
    "dat = 'hl-data_masked'\n",
    "mask = [1,2,3,4]"
   ]
  },
  {
   "cell_type": "code",
   "execution_count": null,
   "metadata": {},
   "outputs": [],
   "source": [
    "for s in strains: \n",
    "    for e in exp: \n",
    "        for i in mask: \n",
    "            print(f'Rscript mice.R {i} {filepath_common}{s}_{e}/{hl} {filepath_common}{s}_{e}/{dat}_{i}.csv')"
   ]
  },
  {
   "cell_type": "code",
   "execution_count": 21,
   "metadata": {},
   "outputs": [],
   "source": [
    "import pandas as pd\n",
    "\n",
    "# Example DataFrames\n",
    "data_true = {\n",
    "    'ID': ['id1', 'id2', 'id3'],\n",
    "    'value': [10, 20, 30],\n",
    "    'value2': [10, 20, 30]\n",
    "}\n",
    "data_pred = {\n",
    "    'ID': ['id1', 'id2', 'id3'],\n",
    "    'value': [10, 20, 30],\n",
    "    'value2': [10, 21, 30]\n",
    "}\n",
    "\n",
    "df_true = pd.DataFrame(data_true)\n",
    "df_pred = pd.DataFrame(data_pred)"
   ]
  },
  {
   "cell_type": "code",
   "execution_count": 22,
   "metadata": {},
   "outputs": [
    {
     "data": {
      "text/plain": [
       "(array([[10, 10],\n",
       "        [20, 20],\n",
       "        [30, 30]]),\n",
       " array([[10, 10],\n",
       "        [20, 21],\n",
       "        [30, 30]]))"
      ]
     },
     "execution_count": 22,
     "metadata": {},
     "output_type": "execute_result"
    }
   ],
   "source": [
    "import numpy as np \n",
    "true = np.array(df_true.drop('ID', axis=1))\n",
    "pred = np.array(df_pred.drop('ID', axis=1))\n",
    "true, pred\n"
   ]
  },
  {
   "cell_type": "code",
   "execution_count": 23,
   "metadata": {},
   "outputs": [
    {
     "data": {
      "text/plain": [
       "array([[0, 0],\n",
       "       [0, 1],\n",
       "       [0, 0]])"
      ]
     },
     "execution_count": 23,
     "metadata": {},
     "output_type": "execute_result"
    }
   ],
   "source": [
    "(true - pred)**2"
   ]
  },
  {
   "cell_type": "code",
   "execution_count": 24,
   "metadata": {},
   "outputs": [
    {
     "data": {
      "text/plain": [
       "1"
      ]
     },
     "execution_count": 24,
     "metadata": {},
     "output_type": "execute_result"
    }
   ],
   "source": [
    "#sum of squared differences\n",
    "np.sum((true - pred)**2)"
   ]
  },
  {
   "cell_type": "code",
   "execution_count": 27,
   "metadata": {},
   "outputs": [
    {
     "name": "stdout",
     "output_type": "stream",
     "text": [
      "1\n",
      "2\n",
      "3\n",
      "4\n",
      "5\n",
      "6\n",
      "7\n",
      "8\n",
      "9\n",
      "10\n"
     ]
    }
   ],
   "source": [
    "for i in range(10):\n",
    "    print(i+1)"
   ]
  },
  {
   "cell_type": "code",
   "execution_count": 12,
   "metadata": {},
   "outputs": [
    {
     "name": "stdout",
     "output_type": "stream",
     "text": [
      "    ID  value  value2\n",
      "0  id1    NaN    10.0\n",
      "1  id2    NaN    40.0\n",
      "2  id3   30.0     NaN\n",
      "Index([0, 1], dtype='int64')\n",
      "    ID  value  value2\n",
      "0  id1     10      10\n",
      "1  id2      3      20\n"
     ]
    },
    {
     "data": {
      "text/plain": [
       "109"
      ]
     },
     "execution_count": 12,
     "metadata": {},
     "output_type": "execute_result"
    }
   ],
   "source": [
    "import numpy as np \n",
    "import pandas as pd\n",
    "data_masked = {\n",
    "    'ID': ['id1', 'id2', 'id3'],\n",
    "    'value': [np.nan, np.nan, 30],\n",
    "    'value2': [10, 40, np.nan]\n",
    "}\n",
    "\n",
    "data_true = {\n",
    "    'ID': ['id1', 'id2', 'id3'],\n",
    "    'value': [10, 3, 30],\n",
    "    'value2': [10, 20, 30]\n",
    "}\n",
    "\n",
    "a = pd.DataFrame(data_masked)\n",
    "b= pd.DataFrame(data_true)\n",
    "print(a)\n",
    "#get all indices where value is null\n",
    "indices = a.loc[a['value'].isnull(), 'value'].index\n",
    "print(indices)\n",
    "\n",
    "print(b.loc[indices])\n",
    "np.sum(b.loc[indices, 'value'] ** 2)"
   ]
  },
  {
   "cell_type": "code",
   "execution_count": 13,
   "metadata": {},
   "outputs": [
    {
     "data": {
      "text/html": [
       "<div>\n",
       "<style scoped>\n",
       "    .dataframe tbody tr th:only-of-type {\n",
       "        vertical-align: middle;\n",
       "    }\n",
       "\n",
       "    .dataframe tbody tr th {\n",
       "        vertical-align: top;\n",
       "    }\n",
       "\n",
       "    .dataframe thead th {\n",
       "        text-align: right;\n",
       "    }\n",
       "</style>\n",
       "<table border=\"1\" class=\"dataframe\">\n",
       "  <thead>\n",
       "    <tr style=\"text-align: right;\">\n",
       "      <th></th>\n",
       "      <th>value</th>\n",
       "      <th>value2</th>\n",
       "    </tr>\n",
       "  </thead>\n",
       "  <tbody>\n",
       "    <tr>\n",
       "      <th>0</th>\n",
       "      <td>NaN</td>\n",
       "      <td>10.0</td>\n",
       "    </tr>\n",
       "    <tr>\n",
       "      <th>1</th>\n",
       "      <td>NaN</td>\n",
       "      <td>40.0</td>\n",
       "    </tr>\n",
       "    <tr>\n",
       "      <th>2</th>\n",
       "      <td>30.0</td>\n",
       "      <td>NaN</td>\n",
       "    </tr>\n",
       "  </tbody>\n",
       "</table>\n",
       "</div>"
      ],
      "text/plain": [
       "   value  value2\n",
       "0    NaN    10.0\n",
       "1    NaN    40.0\n",
       "2   30.0     NaN"
      ]
     },
     "execution_count": 13,
     "metadata": {},
     "output_type": "execute_result"
    }
   ],
   "source": [
    "#keep just 2nd two columns of a\n",
    "a.iloc[:, 1:]"
   ]
  },
  {
   "cell_type": "code",
   "execution_count": 104,
   "metadata": {},
   "outputs": [
    {
     "name": "stdout",
     "output_type": "stream",
     "text": [
      "(8907, 7) (8907, 7) (8907, 7)\n",
      "784.3082214125543 1319.1539239439942\n"
     ]
    }
   ],
   "source": [
    "import pandas as pd \n",
    "\n",
    "true = pd.read_csv('proturn_output_aj_ctrl/hl-data_filtered.csv')\n",
    "true = np.array(true.pivot(index='ID', columns='t', values='A0').reset_index().drop('ID', axis=1))\n",
    "\n",
    "mean = pd.read_csv('proturn_output_aj_ctrl/si_mean_4.csv')\n",
    "mean = np.array(mean.drop('Unnamed: 0', axis=1))\n",
    "\n",
    "knn = pd.read_csv('proturn_output_aj_ctrl/test_4.csv')\n",
    "\n",
    "knn = np.array(knn.drop(columns=['Unnamed: 0']))\n",
    "\n",
    "print(knn.shape, mean.shape, true.shape)\n",
    "\n",
    "er_mean = np.sum((true - mean)**2)\n",
    "er_dmi = np.sum((true - knn)**2)\n",
    "print(er_mean, er_dmi)\n"
   ]
  },
  {
   "cell_type": "code",
   "execution_count": null,
   "metadata": {},
   "outputs": [],
   "source": []
  }
 ],
 "metadata": {
  "kernelspec": {
   "display_name": "dmi",
   "language": "python",
   "name": "python3"
  },
  "language_info": {
   "codemirror_mode": {
    "name": "ipython",
    "version": 3
   },
   "file_extension": ".py",
   "mimetype": "text/x-python",
   "name": "python",
   "nbconvert_exporter": "python",
   "pygments_lexer": "ipython3",
   "version": "3.12.3"
  }
 },
 "nbformat": 4,
 "nbformat_minor": 2
}
