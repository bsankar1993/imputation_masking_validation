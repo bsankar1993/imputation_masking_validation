{
 "cells": [
  {
   "cell_type": "code",
   "execution_count": null,
   "metadata": {},
   "outputs": [],
   "source": [
    "filepath_common = 'proturn_output_'\n",
    "strains = ['aj', 'balbc', 'c57', 'cej', 'dba', 'fvb']\n",
    "exp = ['ctrl', 'iso'] \n",
    "hl = 'hl.out'\n",
    "dat = 'hl-dat_masked'\n",
    "mask = [1,2,3,4]\n",
    "\n",
    "print(f'{filepath_common}{s}_{exp[0]}/{hl}' for s in strains)"
   ]
  },
  {
   "cell_type": "code",
   "execution_count": null,
   "metadata": {},
   "outputs": [],
   "source": []
  }
 ],
 "metadata": {
  "kernelspec": {
   "display_name": "dmi",
   "language": "python",
   "name": "python3"
  },
  "language_info": {
   "name": "python",
   "version": "3.12.3"
  }
 },
 "nbformat": 4,
 "nbformat_minor": 2
}
