{
 "cells": [
  {
   "cell_type": "code",
   "execution_count": 16,
   "metadata": {},
   "outputs": [],
   "source": [
    "filepath_common = 'proturn_output_'\n",
    "strains = ['aj', 'balbc', 'c57', 'cej', 'dba', 'fvb']\n",
    "exp = ['ctrl', 'iso'] \n",
    "hl = 'hl.out'\n",
    "dat = 'hl-data_masked'\n",
    "mask = [1,2,3,4]"
   ]
  },
  {
   "cell_type": "code",
   "execution_count": null,
   "metadata": {},
   "outputs": [],
   "source": [
    "for s in strains: \n",
    "    for e in exp: \n",
    "        for i in mask: \n",
    "            print(f'Rscript mice.R {i} {filepath_common}{s}_{e}/{hl} {filepath_common}{s}_{e}/{dat}_{i}.csv')"
   ]
  },
  {
   "cell_type": "code",
   "execution_count": 21,
   "metadata": {},
   "outputs": [],
   "source": [
    "import pandas as pd\n",
    "\n",
    "# Example DataFrames\n",
    "data_true = {\n",
    "    'ID': ['id1', 'id2', 'id3'],\n",
    "    'value': [10, 20, 30],\n",
    "    'value2': [10, 20, 30]\n",
    "}\n",
    "data_pred = {\n",
    "    'ID': ['id1', 'id2', 'id3'],\n",
    "    'value': [10, 20, 30],\n",
    "    'value2': [10, 21, 30]\n",
    "}\n",
    "\n",
    "df_true = pd.DataFrame(data_true)\n",
    "df_pred = pd.DataFrame(data_pred)"
   ]
  },
  {
   "cell_type": "code",
   "execution_count": 22,
   "metadata": {},
   "outputs": [
    {
     "data": {
      "text/plain": [
       "(array([[10, 10],\n",
       "        [20, 20],\n",
       "        [30, 30]]),\n",
       " array([[10, 10],\n",
       "        [20, 21],\n",
       "        [30, 30]]))"
      ]
     },
     "execution_count": 22,
     "metadata": {},
     "output_type": "execute_result"
    }
   ],
   "source": [
    "import numpy as np \n",
    "true = np.array(df_true.drop('ID', axis=1))\n",
    "pred = np.array(df_pred.drop('ID', axis=1))\n",
    "true, pred\n"
   ]
  },
  {
   "cell_type": "code",
   "execution_count": 23,
   "metadata": {},
   "outputs": [
    {
     "data": {
      "text/plain": [
       "array([[0, 0],\n",
       "       [0, 1],\n",
       "       [0, 0]])"
      ]
     },
     "execution_count": 23,
     "metadata": {},
     "output_type": "execute_result"
    }
   ],
   "source": [
    "(true - pred)**2"
   ]
  },
  {
   "cell_type": "code",
   "execution_count": 24,
   "metadata": {},
   "outputs": [
    {
     "data": {
      "text/plain": [
       "1"
      ]
     },
     "execution_count": 24,
     "metadata": {},
     "output_type": "execute_result"
    }
   ],
   "source": [
    "#sum of squared differences\n",
    "np.sum((true - pred)**2)"
   ]
  },
  {
   "cell_type": "code",
   "execution_count": null,
   "metadata": {},
   "outputs": [],
   "source": []
  }
 ],
 "metadata": {
  "kernelspec": {
   "display_name": "dmi",
   "language": "python",
   "name": "python3"
  },
  "language_info": {
   "codemirror_mode": {
    "name": "ipython",
    "version": 3
   },
   "file_extension": ".py",
   "mimetype": "text/x-python",
   "name": "python",
   "nbconvert_exporter": "python",
   "pygments_lexer": "ipython3",
   "version": "3.12.3"
  }
 },
 "nbformat": 4,
 "nbformat_minor": 2
}
