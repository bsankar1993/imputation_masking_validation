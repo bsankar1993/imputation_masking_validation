{
 "cells": [
  {
   "cell_type": "code",
   "execution_count": 16,
   "metadata": {},
   "outputs": [],
   "source": [
    "filepath_common = 'proturn_output_'\n",
    "strains = ['aj', 'balbc', 'c57', 'cej', 'dba', 'fvb']\n",
    "exp = ['ctrl', 'iso'] \n",
    "hl = 'hl.out'\n",
    "dat = 'hl-data_masked'\n",
    "mask = [1,2,3,4]"
   ]
  },
  {
   "cell_type": "code",
   "execution_count": null,
   "metadata": {},
   "outputs": [],
   "source": [
    "for s in strains: \n",
    "    for e in exp: \n",
    "        for i in mask: \n",
    "            print(f'Rscript mice.R {i} {filepath_common}{s}_{e}/{hl} {filepath_common}{s}_{e}/{dat}_{i}.csv')"
   ]
  },
  {
   "cell_type": "code",
   "execution_count": 21,
   "metadata": {},
   "outputs": [],
   "source": [
    "import pandas as pd\n",
    "\n",
    "# Example DataFrames\n",
    "data_true = {\n",
    "    'ID': ['id1', 'id2', 'id3'],\n",
    "    'value': [10, 20, 30],\n",
    "    'value2': [10, 20, 30]\n",
    "}\n",
    "data_pred = {\n",
    "    'ID': ['id1', 'id2', 'id3'],\n",
    "    'value': [10, 20, 30],\n",
    "    'value2': [10, 21, 30]\n",
    "}\n",
    "\n",
    "df_true = pd.DataFrame(data_true)\n",
    "df_pred = pd.DataFrame(data_pred)"
   ]
  },
  {
   "cell_type": "code",
   "execution_count": 22,
   "metadata": {},
   "outputs": [
    {
     "data": {
      "text/plain": [
       "(array([[10, 10],\n",
       "        [20, 20],\n",
       "        [30, 30]]),\n",
       " array([[10, 10],\n",
       "        [20, 21],\n",
       "        [30, 30]]))"
      ]
     },
     "execution_count": 22,
     "metadata": {},
     "output_type": "execute_result"
    }
   ],
   "source": [
    "import numpy as np \n",
    "true = np.array(df_true.drop('ID', axis=1))\n",
    "pred = np.array(df_pred.drop('ID', axis=1))\n",
    "true, pred\n"
   ]
  },
  {
   "cell_type": "code",
   "execution_count": 23,
   "metadata": {},
   "outputs": [
    {
     "data": {
      "text/plain": [
       "array([[0, 0],\n",
       "       [0, 1],\n",
       "       [0, 0]])"
      ]
     },
     "execution_count": 23,
     "metadata": {},
     "output_type": "execute_result"
    }
   ],
   "source": [
    "(true - pred)**2"
   ]
  },
  {
   "cell_type": "code",
   "execution_count": 24,
   "metadata": {},
   "outputs": [
    {
     "data": {
      "text/plain": [
       "1"
      ]
     },
     "execution_count": 24,
     "metadata": {},
     "output_type": "execute_result"
    }
   ],
   "source": [
    "#sum of squared differences\n",
    "np.sum((true - pred)**2)"
   ]
  },
  {
   "cell_type": "code",
   "execution_count": 27,
   "metadata": {},
   "outputs": [
    {
     "name": "stdout",
     "output_type": "stream",
     "text": [
      "1\n",
      "2\n",
      "3\n",
      "4\n",
      "5\n",
      "6\n",
      "7\n",
      "8\n",
      "9\n",
      "10\n"
     ]
    }
   ],
   "source": [
    "for i in range(10):\n",
    "    print(i+1)"
   ]
  },
  {
   "cell_type": "code",
   "execution_count": 12,
   "metadata": {},
   "outputs": [
    {
     "name": "stdout",
     "output_type": "stream",
     "text": [
      "    ID  value  value2\n",
      "0  id1    NaN    10.0\n",
      "1  id2    NaN    40.0\n",
      "2  id3   30.0     NaN\n",
      "Index([0, 1], dtype='int64')\n",
      "    ID  value  value2\n",
      "0  id1     10      10\n",
      "1  id2      3      20\n"
     ]
    },
    {
     "data": {
      "text/plain": [
       "109"
      ]
     },
     "execution_count": 12,
     "metadata": {},
     "output_type": "execute_result"
    }
   ],
   "source": [
    "import numpy as np \n",
    "import pandas as pd\n",
    "data_masked = {\n",
    "    'ID': ['id1', 'id2', 'id3'],\n",
    "    'value': [np.nan, np.nan, 30],\n",
    "    'value2': [10, 40, np.nan]\n",
    "}\n",
    "\n",
    "data_true = {\n",
    "    'ID': ['id1', 'id2', 'id3'],\n",
    "    'value': [10, 3, 30],\n",
    "    'value2': [10, 20, 30]\n",
    "}\n",
    "\n",
    "a = pd.DataFrame(data_masked)\n",
    "b= pd.DataFrame(data_true)\n",
    "print(a)\n",
    "#get all indices where value is null\n",
    "indices = a.loc[a['value'].isnull(), 'value'].index\n",
    "print(indices)\n",
    "\n",
    "print(b.loc[indices])\n",
    "np.sum(b.loc[indices, 'value'] ** 2)"
   ]
  },
  {
   "cell_type": "code",
   "execution_count": 13,
   "metadata": {},
   "outputs": [
    {
     "data": {
      "text/html": [
       "<div>\n",
       "<style scoped>\n",
       "    .dataframe tbody tr th:only-of-type {\n",
       "        vertical-align: middle;\n",
       "    }\n",
       "\n",
       "    .dataframe tbody tr th {\n",
       "        vertical-align: top;\n",
       "    }\n",
       "\n",
       "    .dataframe thead th {\n",
       "        text-align: right;\n",
       "    }\n",
       "</style>\n",
       "<table border=\"1\" class=\"dataframe\">\n",
       "  <thead>\n",
       "    <tr style=\"text-align: right;\">\n",
       "      <th></th>\n",
       "      <th>value</th>\n",
       "      <th>value2</th>\n",
       "    </tr>\n",
       "  </thead>\n",
       "  <tbody>\n",
       "    <tr>\n",
       "      <th>0</th>\n",
       "      <td>NaN</td>\n",
       "      <td>10.0</td>\n",
       "    </tr>\n",
       "    <tr>\n",
       "      <th>1</th>\n",
       "      <td>NaN</td>\n",
       "      <td>40.0</td>\n",
       "    </tr>\n",
       "    <tr>\n",
       "      <th>2</th>\n",
       "      <td>30.0</td>\n",
       "      <td>NaN</td>\n",
       "    </tr>\n",
       "  </tbody>\n",
       "</table>\n",
       "</div>"
      ],
      "text/plain": [
       "   value  value2\n",
       "0    NaN    10.0\n",
       "1    NaN    40.0\n",
       "2   30.0     NaN"
      ]
     },
     "execution_count": 13,
     "metadata": {},
     "output_type": "execute_result"
    }
   ],
   "source": [
    "#keep just 2nd two columns of a\n",
    "a.iloc[:, 1:]"
   ]
  },
  {
   "cell_type": "code",
   "execution_count": 2,
   "metadata": {},
   "outputs": [
    {
     "name": "stdout",
     "output_type": "stream",
     "text": [
      "(8907, 7) (8907, 7) (8907, 7)\n",
      "784.3082214125543 1575.1203458071443\n"
     ]
    }
   ],
   "source": [
    "import pandas as pd \n",
    "import numpy as np\n",
    "\n",
    "true = pd.read_csv('proturn_output_aj_ctrl/hl-data_filtered.csv')\n",
    "true = np.array(true.pivot(index='ID', columns='t', values='A0').reset_index().drop('ID', axis=1))\n",
    "\n",
    "mean = pd.read_csv('proturn_output_aj_ctrl/si_mean_4.csv')\n",
    "mean = np.array(mean.drop('Unnamed: 0', axis=1))\n",
    "\n",
    "knn = pd.read_csv('proturn_output_aj_ctrl/test_4.csv')\n",
    "\n",
    "knn = np.array(knn.drop(columns=['Unnamed: 0']))\n",
    "\n",
    "print(knn.shape, mean.shape, true.shape)\n",
    "\n",
    "er_mean = np.sum((true - mean)**2)\n",
    "er_dmi = np.sum((true - knn)**2)\n",
    "print(er_mean, er_dmi)\n"
   ]
  },
  {
   "cell_type": "code",
   "execution_count": 131,
   "metadata": {},
   "outputs": [
    {
     "name": "stdout",
     "output_type": "stream",
     "text": [
      "proturn_output_aj_ctrl/\n",
      "proturn_output_aj_iso/\n",
      "proturn_output_balbc_ctrl/\n"
     ]
    },
    {
     "name": "stderr",
     "output_type": "stream",
     "text": [
      "/var/folders/pl/n_hk64vd2250th2zsk_xbyh40000gp/T/ipykernel_2901/215880281.py:62: DtypeWarning: Columns (0,3,4,5,6,7,8,9,10,11,12,13) have mixed types. Specify dtype option on import or set low_memory=False.\n",
      "  imputed_dmi = pd.read_csv(imputed_path, sep='\\t')\n"
     ]
    },
    {
     "ename": "TypeError",
     "evalue": "'>=' not supported between instances of 'str' and 'float'",
     "output_type": "error",
     "traceback": [
      "\u001b[0;31m---------------------------------------------------------------------------\u001b[0m",
      "\u001b[0;31mTypeError\u001b[0m                                 Traceback (most recent call last)",
      "\u001b[1;32m/Users/simhasankar/Documents/imputation_masking_validation/scratchpad.ipynb Cell 11\u001b[0m line \u001b[0;36m6\n\u001b[1;32m     <a href='vscode-notebook-cell:/Users/simhasankar/Documents/imputation_masking_validation/scratchpad.ipynb#X13sZmlsZQ%3D%3D?line=60'>61</a>\u001b[0m true \u001b[39m=\u001b[39m pd\u001b[39m.\u001b[39mread_csv(true_path, sep\u001b[39m=\u001b[39m\u001b[39m'\u001b[39m\u001b[39m\\t\u001b[39;00m\u001b[39m'\u001b[39m)\n\u001b[1;32m     <a href='vscode-notebook-cell:/Users/simhasankar/Documents/imputation_masking_validation/scratchpad.ipynb#X13sZmlsZQ%3D%3D?line=61'>62</a>\u001b[0m imputed_dmi \u001b[39m=\u001b[39m pd\u001b[39m.\u001b[39mread_csv(imputed_path, sep\u001b[39m=\u001b[39m\u001b[39m'\u001b[39m\u001b[39m\\t\u001b[39;00m\u001b[39m'\u001b[39m)\n\u001b[0;32m---> <a href='vscode-notebook-cell:/Users/simhasankar/Documents/imputation_masking_validation/scratchpad.ipynb#X13sZmlsZQ%3D%3D?line=62'>63</a>\u001b[0m sse, nf \u001b[39m=\u001b[39m calculate_nrmse(imputed_dmi, true, \u001b[39m'\u001b[39;49m\u001b[39mdmi\u001b[39;49m\u001b[39m'\u001b[39;49m)\n\u001b[1;32m     <a href='vscode-notebook-cell:/Users/simhasankar/Documents/imputation_masking_validation/scratchpad.ipynb#X13sZmlsZQ%3D%3D?line=63'>64</a>\u001b[0m sse_mask \u001b[39m+\u001b[39m\u001b[39m=\u001b[39m sse\n\u001b[1;32m     <a href='vscode-notebook-cell:/Users/simhasankar/Documents/imputation_masking_validation/scratchpad.ipynb#X13sZmlsZQ%3D%3D?line=64'>65</a>\u001b[0m nf_mask \u001b[39m+\u001b[39m\u001b[39m=\u001b[39m nf\n",
      "\u001b[1;32m/Users/simhasankar/Documents/imputation_masking_validation/scratchpad.ipynb Cell 11\u001b[0m line \u001b[0;36m2\n\u001b[1;32m     <a href='vscode-notebook-cell:/Users/simhasankar/Documents/imputation_masking_validation/scratchpad.ipynb#X13sZmlsZQ%3D%3D?line=20'>21</a>\u001b[0m \u001b[39mdef\u001b[39;00m \u001b[39mcalculate_nrmse\u001b[39m(imputed_data, true_data, method):\n\u001b[1;32m     <a href='vscode-notebook-cell:/Users/simhasankar/Documents/imputation_masking_validation/scratchpad.ipynb#X13sZmlsZQ%3D%3D?line=21'>22</a>\u001b[0m     \u001b[39m#filter by well fit peptides \u001b[39;00m\n\u001b[0;32m---> <a href='vscode-notebook-cell:/Users/simhasankar/Documents/imputation_masking_validation/scratchpad.ipynb#X13sZmlsZQ%3D%3D?line=22'>23</a>\u001b[0m     imputed_data \u001b[39m=\u001b[39m imputed_data\u001b[39m.\u001b[39mloc[(imputed_data[\u001b[39m'\u001b[39;49m\u001b[39mR2\u001b[39;49m\u001b[39m'\u001b[39;49m] \u001b[39m>\u001b[39;49m\u001b[39m=\u001b[39;49m \u001b[39m0.8\u001b[39;49m) \u001b[39m|\u001b[39m (imputed_data[\u001b[39m'\u001b[39m\u001b[39mSS\u001b[39m\u001b[39m'\u001b[39m] \u001b[39m<\u001b[39m\u001b[39m=\u001b[39m \u001b[39m0.05\u001b[39m)]\n\u001b[1;32m     <a href='vscode-notebook-cell:/Users/simhasankar/Documents/imputation_masking_validation/scratchpad.ipynb#X13sZmlsZQ%3D%3D?line=23'>24</a>\u001b[0m     imputed_data \u001b[39m=\u001b[39m imputed_data\u001b[39m.\u001b[39mloc[(imputed_data[\u001b[39m'\u001b[39m\u001b[39mk\u001b[39m\u001b[39m'\u001b[39m] \u001b[39m>\u001b[39m\u001b[39m=\u001b[39m \u001b[39m0\u001b[39m) \u001b[39m&\u001b[39m (imputed_data[\u001b[39m'\u001b[39m\u001b[39mk\u001b[39m\u001b[39m'\u001b[39m] \u001b[39m<\u001b[39m\u001b[39m=\u001b[39m \u001b[39m100\u001b[39m)] \n\u001b[1;32m     <a href='vscode-notebook-cell:/Users/simhasankar/Documents/imputation_masking_validation/scratchpad.ipynb#X13sZmlsZQ%3D%3D?line=24'>25</a>\u001b[0m     true_data \u001b[39m=\u001b[39m true_data\u001b[39m.\u001b[39mloc[(true_data[\u001b[39m'\u001b[39m\u001b[39mR2\u001b[39m\u001b[39m'\u001b[39m] \u001b[39m>\u001b[39m\u001b[39m=\u001b[39m \u001b[39m0.8\u001b[39m)] \n",
      "File \u001b[0;32m~/miniconda3/envs/dmi/lib/python3.12/site-packages/pandas/core/ops/common.py:76\u001b[0m, in \u001b[0;36m_unpack_zerodim_and_defer.<locals>.new_method\u001b[0;34m(self, other)\u001b[0m\n\u001b[1;32m     72\u001b[0m             \u001b[39mreturn\u001b[39;00m \u001b[39mNotImplemented\u001b[39m\n\u001b[1;32m     74\u001b[0m other \u001b[39m=\u001b[39m item_from_zerodim(other)\n\u001b[0;32m---> 76\u001b[0m \u001b[39mreturn\u001b[39;00m method(\u001b[39mself\u001b[39;49m, other)\n",
      "File \u001b[0;32m~/miniconda3/envs/dmi/lib/python3.12/site-packages/pandas/core/arraylike.py:60\u001b[0m, in \u001b[0;36mOpsMixin.__ge__\u001b[0;34m(self, other)\u001b[0m\n\u001b[1;32m     58\u001b[0m \u001b[39m@unpack_zerodim_and_defer\u001b[39m(\u001b[39m\"\u001b[39m\u001b[39m__ge__\u001b[39m\u001b[39m\"\u001b[39m)\n\u001b[1;32m     59\u001b[0m \u001b[39mdef\u001b[39;00m \u001b[39m__ge__\u001b[39m(\u001b[39mself\u001b[39m, other):\n\u001b[0;32m---> 60\u001b[0m     \u001b[39mreturn\u001b[39;00m \u001b[39mself\u001b[39;49m\u001b[39m.\u001b[39;49m_cmp_method(other, operator\u001b[39m.\u001b[39;49mge)\n",
      "File \u001b[0;32m~/miniconda3/envs/dmi/lib/python3.12/site-packages/pandas/core/series.py:6110\u001b[0m, in \u001b[0;36mSeries._cmp_method\u001b[0;34m(self, other, op)\u001b[0m\n\u001b[1;32m   6107\u001b[0m lvalues \u001b[39m=\u001b[39m \u001b[39mself\u001b[39m\u001b[39m.\u001b[39m_values\n\u001b[1;32m   6108\u001b[0m rvalues \u001b[39m=\u001b[39m extract_array(other, extract_numpy\u001b[39m=\u001b[39m\u001b[39mTrue\u001b[39;00m, extract_range\u001b[39m=\u001b[39m\u001b[39mTrue\u001b[39;00m)\n\u001b[0;32m-> 6110\u001b[0m res_values \u001b[39m=\u001b[39m ops\u001b[39m.\u001b[39;49mcomparison_op(lvalues, rvalues, op)\n\u001b[1;32m   6112\u001b[0m \u001b[39mreturn\u001b[39;00m \u001b[39mself\u001b[39m\u001b[39m.\u001b[39m_construct_result(res_values, name\u001b[39m=\u001b[39mres_name)\n",
      "File \u001b[0;32m~/miniconda3/envs/dmi/lib/python3.12/site-packages/pandas/core/ops/array_ops.py:344\u001b[0m, in \u001b[0;36mcomparison_op\u001b[0;34m(left, right, op)\u001b[0m\n\u001b[1;32m    341\u001b[0m     \u001b[39mreturn\u001b[39;00m invalid_comparison(lvalues, rvalues, op)\n\u001b[1;32m    343\u001b[0m \u001b[39melif\u001b[39;00m lvalues\u001b[39m.\u001b[39mdtype \u001b[39m==\u001b[39m \u001b[39mobject\u001b[39m \u001b[39mor\u001b[39;00m \u001b[39misinstance\u001b[39m(rvalues, \u001b[39mstr\u001b[39m):\n\u001b[0;32m--> 344\u001b[0m     res_values \u001b[39m=\u001b[39m comp_method_OBJECT_ARRAY(op, lvalues, rvalues)\n\u001b[1;32m    346\u001b[0m \u001b[39melse\u001b[39;00m:\n\u001b[1;32m    347\u001b[0m     res_values \u001b[39m=\u001b[39m _na_arithmetic_op(lvalues, rvalues, op, is_cmp\u001b[39m=\u001b[39m\u001b[39mTrue\u001b[39;00m)\n",
      "File \u001b[0;32m~/miniconda3/envs/dmi/lib/python3.12/site-packages/pandas/core/ops/array_ops.py:129\u001b[0m, in \u001b[0;36mcomp_method_OBJECT_ARRAY\u001b[0;34m(op, x, y)\u001b[0m\n\u001b[1;32m    127\u001b[0m     result \u001b[39m=\u001b[39m libops\u001b[39m.\u001b[39mvec_compare(x\u001b[39m.\u001b[39mravel(), y\u001b[39m.\u001b[39mravel(), op)\n\u001b[1;32m    128\u001b[0m \u001b[39melse\u001b[39;00m:\n\u001b[0;32m--> 129\u001b[0m     result \u001b[39m=\u001b[39m libops\u001b[39m.\u001b[39;49mscalar_compare(x\u001b[39m.\u001b[39;49mravel(), y, op)\n\u001b[1;32m    130\u001b[0m \u001b[39mreturn\u001b[39;00m result\u001b[39m.\u001b[39mreshape(x\u001b[39m.\u001b[39mshape)\n",
      "File \u001b[0;32mops.pyx:107\u001b[0m, in \u001b[0;36mpandas._libs.ops.scalar_compare\u001b[0;34m()\u001b[0m\n",
      "\u001b[0;31mTypeError\u001b[0m: '>=' not supported between instances of 'str' and 'float'"
     ]
    }
   ],
   "source": [
    "import pandas as pd\n",
    "import numpy as np\n",
    "import os \n",
    "\n",
    "# true_path = \"proturn_output_aj_ctrl/hl.out\"\n",
    "# imputed_path = \"proturn_output_aj_ctrl/ProTurn_imp_3.txt\"\n",
    "# knn_path = \"proturn_output_aj_ctrl/ProTurn_knn_3.txt\"\n",
    "# si_path = \"proturn_output_aj_ctrl/ProTurn_si_3.txt\"\n",
    "\n",
    "filepath_common = 'proturn_output_'\n",
    "strains = ['aj', 'balbc', 'c57', 'cej', 'dba', 'fvb']\n",
    "exp = ['ctrl', 'iso']\n",
    "true_data_files = 'hl.out'\n",
    "mask = [1, 2, 3, 4, 5]\n",
    "output_dir = 'nrmse_k'\n",
    "folders = [filepath_common + s + '_' + e + '/' for s in strains for e in exp]\n",
    "os.makedirs(output_dir, exist_ok=True)\n",
    "\n",
    "\n",
    "# Function to filter and calculate NRMSE\n",
    "def calculate_nrmse(imputed_data, true_data, method):\n",
    "    #filter by well fit peptides \n",
    "    imputed_data = imputed_data.loc[(imputed_data['R2'] >= 0.8) | (imputed_data['SS'] <= 0.05)]\n",
    "    imputed_data = imputed_data.loc[(imputed_data['k'] >= 0) & (imputed_data['k'] <= 100)] \n",
    "    true_data = true_data.loc[(true_data['R2'] >= 0.8)] \n",
    "\n",
    "    sse = 0 \n",
    "    nf = 0 \n",
    "    for prot in imputed_data['Uniprot'].unique():\n",
    "            if method == 'dmi': \n",
    "                #imputed data for a specific protein\n",
    "                imp_prot = imputed_data.loc[imputed_data['Uniprot'] == prot].groupby(['ID', 'Uniprot']).agg({'k': 'mean'}).reset_index()\n",
    "                #true data for a specific protein\n",
    "                t = true.loc[true['Uniprot'] == prot]\n",
    "                # filter t so it only contains rows where ID is in imp['ID']\n",
    "                t = t.loc[t['ID'].isin(imp_prot['ID'])]\n",
    "                error = np.median(t['k']) - np.median(imp_prot['k'])\n",
    "                sse += error**2\n",
    "                nf += np.median(t['k'])**2\n",
    "            else: \n",
    "                #imputed data for a specific protein\n",
    "                imp_prot = imputed_data.loc[imputed_data['Uniprot'] == prot]\n",
    "                #true data for a specific protein\n",
    "                t = true.loc[true['Uniprot'] == prot]\n",
    "                # filter t so it only contains rows where ID is in imp['ID']\n",
    "                t = t.loc[t['ID'].isin(imp_prot['ID'])]\n",
    "                error = np.median(t['k']) - np.median(imp_prot['k'])\n",
    "                sse += error**2\n",
    "                nf += np.median(t['k'])**2\n",
    "\n",
    "    return sse, nf \n",
    "\n",
    "\n",
    "for m in mask: \n",
    "    sse_mask = 0 \n",
    "    nf_mask = 0 \n",
    "    for f in folders:\n",
    "            print(f)\n",
    "            true_path = f\"{f}hl.out\"\n",
    "            imputed_path = f\"{f}ProTurn_imp_{m}.txt\"\n",
    "            true = pd.read_csv(true_path, sep='\\t')\n",
    "            imputed_dmi = pd.read_csv(imputed_path, sep='\\t')\n",
    "            sse, nf = calculate_nrmse(imputed_dmi, true, 'dmi')\n",
    "            sse_mask += sse\n",
    "            nf_mask += nf\n",
    "    nrmse = np.sqrt(sse_mask/nf_mask)\n",
    "    print(f\"{nrmse} for {m}\")\n",
    "    break \n",
    "            \n",
    "            "
   ]
  },
  {
   "cell_type": "code",
   "execution_count": null,
   "metadata": {},
   "outputs": [],
   "source": [
    "import pandas as pd\n",
    "import numpy as np\n",
    "import os\n",
    "\n",
    "filepath_common = 'proturn_output_'\n",
    "strains = ['aj', 'balbc', 'c57', 'cej', 'dba', 'fvb']\n",
    "exp = ['ctrl', 'iso']\n",
    "true_data_files = 'hl.out'\n",
    "mask = [1, 2, 3, 4, 5]\n",
    "output_dir = 'nrmse_k'\n",
    "folders = [filepath_common + s + '_' + e + '/' for s in strains for e in exp]\n",
    "os.makedirs(output_dir, exist_ok=True)\n",
    "\n",
    "def calculate_nrmse(imputed_data, true_data, method):\n",
    "    # Filter by well-fit peptides\n",
    "    imputed_data = imputed_data.loc[(imputed_data['R2'] >= 0.8) | (imputed_data['SS'] <= 0.05)]\n",
    "    imputed_data = imputed_data.loc[(imputed_data['k'] >= 0) & (imputed_data['k'] <= 100)]\n",
    "    true_data = true_data.loc[(true_data['R2'] >= 0.8)]\n",
    "\n",
    "    sse = 0\n",
    "    nf = 0\n",
    "    for prot in imputed_data['Uniprot'].unique():\n",
    "        if method == 'dmi':\n",
    "            # Imputed data for a specific protein\n",
    "            #imp_prot = imputed_data.loc[imputed_data['Uniprot'] == prot].groupby(['ID', 'Uniprot']).agg({'k': 'mean'}).reset_index()\n",
    "            # True data for a specific protein\n",
    "            t = true_data.loc[true_data['Uniprot'] == prot]\n",
    "            # Filter t so it only contains rows where ID is in imp_prot['ID']\n",
    "            t = t.loc[t['ID'].isin(imp_prot['ID'])]\n",
    "            error = np.median(t['k']) - np.median(imp_prot['k'])\n",
    "            sse += error**2\n",
    "            nf += np.median(t['k'])**2\n",
    "        else:\n",
    "            # Imputed data for a specific protein\n",
    "            imp_prot = imputed_data.loc[imputed_data['Uniprot'] == prot]\n",
    "            # True data for a specific protein\n",
    "            t = true_data.loc[true_data['Uniprot'] == prot]\n",
    "            # Filter t so it only contains rows where ID is in imp_prot['ID']\n",
    "            t = t.loc[t['ID'].isin(imp_prot['ID'])]\n",
    "            error = np.median(t['k']) - np.median(imp_prot['k'])\n",
    "            sse += error**2\n",
    "            nf += np.median(t['k'])**2\n",
    "\n",
    "    return sse, nf\n",
    "\n",
    "for m in mask:\n",
    "    sse_mask = 0\n",
    "    nf_mask = 0\n",
    "    for f in folders:\n",
    "        print(f)\n",
    "        true_path = f\"{f}{true_data_files}\"\n",
    "        imputed_path = f\"{f}ProTurn_imp_{m}.txt\"\n",
    "        if os.path.exists(true_path) and os.path.exists(imputed_path):\n",
    "            true = pd.read_csv(true_path, sep='\\t', low_memory=False)\n",
    "            imputed_dmi = pd.read_csv(imputed_path, sep='\\t', low_memory=False)\n",
    "            sse, nf = calculate_nrmse(imputed_dmi, true, 'dmi')\n",
    "            sse_mask += sse\n",
    "            nf_mask += nf\n",
    "        else:\n",
    "            print(f\"Missing file: {true_path} or {imputed_path}\")\n",
    "    if nf_mask > 0:\n",
    "        nrmse = np.sqrt(sse_mask / nf_mask)\n",
    "        print(f\"NRMSE for mask {m}: {nrmse}\")\n",
    "    else:\n",
    "        print(f\"No valid data for mask {m}\")\n"
   ]
  },
  {
   "cell_type": "code",
   "execution_count": 150,
   "metadata": {},
   "outputs": [
    {
     "name": "stdout",
     "output_type": "stream",
     "text": [
      "proturn_output_balbc_ctrl/\n",
      "proturn_output_balbc_iso/\n",
      "proturn_output_c57_ctrl/\n",
      "proturn_output_c57_iso/\n",
      "proturn_output_cej_ctrl/\n",
      "proturn_output_cej_iso/\n",
      "proturn_output_dba_ctrl/\n",
      "proturn_output_dba_iso/\n",
      "proturn_output_fvb_ctrl/\n",
      "proturn_output_fvb_iso/\n",
      "nan for 1\n",
      "proturn_output_balbc_ctrl/\n",
      "proturn_output_balbc_iso/\n",
      "proturn_output_c57_ctrl/\n"
     ]
    },
    {
     "ename": "KeyboardInterrupt",
     "evalue": "",
     "output_type": "error",
     "traceback": [
      "\u001b[0;31m---------------------------------------------------------------------------\u001b[0m",
      "\u001b[0;31mKeyboardInterrupt\u001b[0m                         Traceback (most recent call last)",
      "\u001b[1;32m/Users/simhasankar/Documents/imputation_masking_validation/scratchpad.ipynb Cell 13\u001b[0m line \u001b[0;36m2\n\u001b[1;32m     <a href='vscode-notebook-cell:/Users/simhasankar/Documents/imputation_masking_validation/scratchpad.ipynb#X32sZmlsZQ%3D%3D?line=25'>26</a>\u001b[0m imputed_dmi \u001b[39m=\u001b[39m imputed_dmi\u001b[39m.\u001b[39mloc[(imputed_dmi[\u001b[39m'\u001b[39m\u001b[39mk\u001b[39m\u001b[39m'\u001b[39m] \u001b[39m>\u001b[39m\u001b[39m=\u001b[39m \u001b[39m0\u001b[39m) \u001b[39m&\u001b[39m (imputed_dmi[\u001b[39m'\u001b[39m\u001b[39mk\u001b[39m\u001b[39m'\u001b[39m] \u001b[39m<\u001b[39m\u001b[39m=\u001b[39m \u001b[39m50\u001b[39m)]\n\u001b[1;32m     <a href='vscode-notebook-cell:/Users/simhasankar/Documents/imputation_masking_validation/scratchpad.ipynb#X32sZmlsZQ%3D%3D?line=27'>28</a>\u001b[0m \u001b[39mfor\u001b[39;00m prot \u001b[39min\u001b[39;00m imputed_dmi\u001b[39m.\u001b[39mUniprot\u001b[39m.\u001b[39munique():\n\u001b[0;32m---> <a href='vscode-notebook-cell:/Users/simhasankar/Documents/imputation_masking_validation/scratchpad.ipynb#X32sZmlsZQ%3D%3D?line=28'>29</a>\u001b[0m     \u001b[39mif\u001b[39;00m prot \u001b[39min\u001b[39;00m true\u001b[39m.\u001b[39;49mUniprot\u001b[39m.\u001b[39;49munique():\n\u001b[1;32m     <a href='vscode-notebook-cell:/Users/simhasankar/Documents/imputation_masking_validation/scratchpad.ipynb#X32sZmlsZQ%3D%3D?line=29'>30</a>\u001b[0m         \u001b[39m#imputed data for a specific protein\u001b[39;00m\n\u001b[1;32m     <a href='vscode-notebook-cell:/Users/simhasankar/Documents/imputation_masking_validation/scratchpad.ipynb#X32sZmlsZQ%3D%3D?line=30'>31</a>\u001b[0m         imp_prot \u001b[39m=\u001b[39m imputed_dmi\u001b[39m.\u001b[39mloc[imputed_dmi[\u001b[39m'\u001b[39m\u001b[39mUniprot\u001b[39m\u001b[39m'\u001b[39m] \u001b[39m==\u001b[39m prot]\u001b[39m.\u001b[39mgroupby([\u001b[39m'\u001b[39m\u001b[39mID\u001b[39m\u001b[39m'\u001b[39m, \u001b[39m'\u001b[39m\u001b[39mUniprot\u001b[39m\u001b[39m'\u001b[39m])\u001b[39m.\u001b[39magg({\u001b[39m'\u001b[39m\u001b[39mk\u001b[39m\u001b[39m'\u001b[39m: \u001b[39m'\u001b[39m\u001b[39mmean\u001b[39m\u001b[39m'\u001b[39m})\u001b[39m.\u001b[39mreset_index()\n\u001b[1;32m     <a href='vscode-notebook-cell:/Users/simhasankar/Documents/imputation_masking_validation/scratchpad.ipynb#X32sZmlsZQ%3D%3D?line=31'>32</a>\u001b[0m         \u001b[39m#print(imp_prot)\u001b[39;00m\n\u001b[1;32m     <a href='vscode-notebook-cell:/Users/simhasankar/Documents/imputation_masking_validation/scratchpad.ipynb#X32sZmlsZQ%3D%3D?line=32'>33</a>\u001b[0m         \u001b[39m#true data for a specific protein\u001b[39;00m\n",
      "File \u001b[0;32m~/miniconda3/envs/dmi/lib/python3.12/site-packages/pandas/core/series.py:2398\u001b[0m, in \u001b[0;36mSeries.unique\u001b[0;34m(self)\u001b[0m\n\u001b[1;32m   2335\u001b[0m \u001b[39mdef\u001b[39;00m \u001b[39munique\u001b[39m(\u001b[39mself\u001b[39m) \u001b[39m-\u001b[39m\u001b[39m>\u001b[39m ArrayLike:  \u001b[39m# pylint: disable=useless-parent-delegation\u001b[39;00m\n\u001b[1;32m   2336\u001b[0m \u001b[39m    \u001b[39m\u001b[39m\"\"\"\u001b[39;00m\n\u001b[1;32m   2337\u001b[0m \u001b[39m    Return unique values of Series object.\u001b[39;00m\n\u001b[1;32m   2338\u001b[0m \n\u001b[0;32m   (...)\u001b[0m\n\u001b[1;32m   2396\u001b[0m \u001b[39m    Categories (3, object): ['a' < 'b' < 'c']\u001b[39;00m\n\u001b[1;32m   2397\u001b[0m \u001b[39m    \"\"\"\u001b[39;00m\n\u001b[0;32m-> 2398\u001b[0m     \u001b[39mreturn\u001b[39;00m \u001b[39msuper\u001b[39;49m()\u001b[39m.\u001b[39;49munique()\n",
      "File \u001b[0;32m~/miniconda3/envs/dmi/lib/python3.12/site-packages/pandas/core/base.py:1025\u001b[0m, in \u001b[0;36mIndexOpsMixin.unique\u001b[0;34m(self)\u001b[0m\n\u001b[1;32m   1023\u001b[0m     result \u001b[39m=\u001b[39m values\u001b[39m.\u001b[39munique()\n\u001b[1;32m   1024\u001b[0m \u001b[39melse\u001b[39;00m:\n\u001b[0;32m-> 1025\u001b[0m     result \u001b[39m=\u001b[39m algorithms\u001b[39m.\u001b[39;49munique1d(values)\n\u001b[1;32m   1026\u001b[0m \u001b[39mreturn\u001b[39;00m result\n",
      "File \u001b[0;32m~/miniconda3/envs/dmi/lib/python3.12/site-packages/pandas/core/algorithms.py:401\u001b[0m, in \u001b[0;36munique\u001b[0;34m(values)\u001b[0m\n\u001b[1;32m    307\u001b[0m \u001b[39mdef\u001b[39;00m \u001b[39munique\u001b[39m(values):\n\u001b[1;32m    308\u001b[0m \u001b[39m    \u001b[39m\u001b[39m\"\"\"\u001b[39;00m\n\u001b[1;32m    309\u001b[0m \u001b[39m    Return unique values based on a hash table.\u001b[39;00m\n\u001b[1;32m    310\u001b[0m \n\u001b[0;32m   (...)\u001b[0m\n\u001b[1;32m    399\u001b[0m \u001b[39m    array([('a', 'b'), ('b', 'a'), ('a', 'c')], dtype=object)\u001b[39;00m\n\u001b[1;32m    400\u001b[0m \u001b[39m    \"\"\"\u001b[39;00m\n\u001b[0;32m--> 401\u001b[0m     \u001b[39mreturn\u001b[39;00m unique_with_mask(values)\n",
      "File \u001b[0;32m~/miniconda3/envs/dmi/lib/python3.12/site-packages/pandas/core/algorithms.py:440\u001b[0m, in \u001b[0;36munique_with_mask\u001b[0;34m(values, mask)\u001b[0m\n\u001b[1;32m    438\u001b[0m table \u001b[39m=\u001b[39m hashtable(\u001b[39mlen\u001b[39m(values))\n\u001b[1;32m    439\u001b[0m \u001b[39mif\u001b[39;00m mask \u001b[39mis\u001b[39;00m \u001b[39mNone\u001b[39;00m:\n\u001b[0;32m--> 440\u001b[0m     uniques \u001b[39m=\u001b[39m table\u001b[39m.\u001b[39;49munique(values)\n\u001b[1;32m    441\u001b[0m     uniques \u001b[39m=\u001b[39m _reconstruct_data(uniques, original\u001b[39m.\u001b[39mdtype, original)\n\u001b[1;32m    442\u001b[0m     \u001b[39mreturn\u001b[39;00m uniques\n",
      "\u001b[0;31mKeyboardInterrupt\u001b[0m: "
     ]
    }
   ],
   "source": [
    "import pandas as pd\n",
    "import numpy as np\n",
    "import os\n",
    "\n",
    "filepath_common = 'proturn_output_'\n",
    "strains = ['balbc', 'c57', 'cej', 'dba', 'fvb']\n",
    "exp = ['ctrl', 'iso']\n",
    "true_data_files = 'hl.out'\n",
    "mask = [1, 2, 3, 4, 5]\n",
    "folders = [filepath_common + s + '_' + e + '/' for s in strains for e in exp]\n",
    "output_dir = 'nrmse_k'\n",
    "os.makedirs(output_dir, exist_ok=True)\n",
    "\n",
    "for m in mask:\n",
    "    sse_mask = 0\n",
    "    nf_mask = 0\n",
    "    for f in folders:\n",
    "        print(f)\n",
    "        true_path = f\"{f}{true_data_files}\"\n",
    "        imputed_path = f\"{f}ProTurn_imp_{m}.txt\"\n",
    "        \n",
    "        true = pd.read_csv(true_path, sep='\\t', low_memory=False)\n",
    "        #true = true.loc[(true['R2'] >= 0.8)]\n",
    "        imputed_dmi = pd.read_csv(imputed_path, sep='\\t', low_memory=False)\n",
    "        imputed_dmi = imputed_dmi.loc[(imputed_dmi['R2'] >= 0.8)] #| (imputed_dmi['SS'] <= 0.05)]\n",
    "        imputed_dmi = imputed_dmi.loc[(imputed_dmi['k'] >= 0) & (imputed_dmi['k'] <= 50)]\n",
    "        \n",
    "        for prot in imputed_dmi.Uniprot.unique():\n",
    "            if prot in true.Uniprot.unique():\n",
    "                #imputed data for a specific protein\n",
    "                imp_prot = imputed_dmi.loc[imputed_dmi['Uniprot'] == prot].groupby(['ID', 'Uniprot']).agg({'k': 'mean'}).reset_index()\n",
    "                #print(imp_prot)\n",
    "                #true data for a specific protein\n",
    "                t = true.loc[true['Uniprot'] == prot][['ID', 'Uniprot','k']]\n",
    "                # filter t so it only contains rows where ID is in imp['ID']\n",
    "                t = t.loc[t['ID'].isin(imp_prot['ID'])]\n",
    "                #print(t)\n",
    "                error = np.median(t['k']) - np.median(imp_prot['k'])\n",
    "                sse += error**2\n",
    "                nf += np.median(t['k'])**2\n",
    "                #print(sse, nf)\n",
    "                sse_mask += sse\n",
    "                nf_mask += nf\n",
    "    nrmse = np.sqrt(sse_mask/nf_mask) \n",
    "    print(f\"{nrmse} for {m}\")\n",
    "    with open(f'{output_dir}/nrmse_k.csv', 'a') as f:\n",
    "                f.write(f'{nrmse},{m},dmi\\n')\n",
    "\n",
    "    "
   ]
  },
  {
   "cell_type": "code",
   "execution_count": null,
   "metadata": {},
   "outputs": [],
   "source": []
  }
 ],
 "metadata": {
  "kernelspec": {
   "display_name": "dmi",
   "language": "python",
   "name": "python3"
  },
  "language_info": {
   "codemirror_mode": {
    "name": "ipython",
    "version": 3
   },
   "file_extension": ".py",
   "mimetype": "text/x-python",
   "name": "python",
   "nbconvert_exporter": "python",
   "pygments_lexer": "ipython3",
   "version": "3.12.3"
  }
 },
 "nbformat": 4,
 "nbformat_minor": 2
}
