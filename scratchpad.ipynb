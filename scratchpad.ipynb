{
 "cells": [
  {
   "cell_type": "code",
   "execution_count": 16,
   "metadata": {},
   "outputs": [],
   "source": [
    "filepath_common = 'proturn_output_'\n",
    "strains = ['aj', 'balbc', 'c57', 'cej', 'dba', 'fvb']\n",
    "exp = ['ctrl', 'iso'] \n",
    "hl = 'hl.out'\n",
    "dat = 'hl-data_masked'\n",
    "mask = [1,2,3,4]"
   ]
  },
  {
   "cell_type": "code",
   "execution_count": null,
   "metadata": {},
   "outputs": [],
   "source": [
    "for s in strains: \n",
    "    for e in exp: \n",
    "        for i in mask: \n",
    "            print(f'Rscript mice.R {i} {filepath_common}{s}_{e}/{hl} {filepath_common}{s}_{e}/{dat}_{i}.csv')"
   ]
  },
  {
   "cell_type": "code",
   "execution_count": 21,
   "metadata": {},
   "outputs": [],
   "source": [
    "import pandas as pd\n",
    "\n",
    "# Example DataFrames\n",
    "data_true = {\n",
    "    'ID': ['id1', 'id2', 'id3'],\n",
    "    'value': [10, 20, 30],\n",
    "    'value2': [10, 20, 30]\n",
    "}\n",
    "data_pred = {\n",
    "    'ID': ['id1', 'id2', 'id3'],\n",
    "    'value': [10, 20, 30],\n",
    "    'value2': [10, 21, 30]\n",
    "}\n",
    "\n",
    "df_true = pd.DataFrame(data_true)\n",
    "df_pred = pd.DataFrame(data_pred)"
   ]
  },
  {
   "cell_type": "code",
   "execution_count": 22,
   "metadata": {},
   "outputs": [
    {
     "data": {
      "text/plain": [
       "(array([[10, 10],\n",
       "        [20, 20],\n",
       "        [30, 30]]),\n",
       " array([[10, 10],\n",
       "        [20, 21],\n",
       "        [30, 30]]))"
      ]
     },
     "execution_count": 22,
     "metadata": {},
     "output_type": "execute_result"
    }
   ],
   "source": [
    "import numpy as np \n",
    "true = np.array(df_true.drop('ID', axis=1))\n",
    "pred = np.array(df_pred.drop('ID', axis=1))\n",
    "true, pred\n"
   ]
  },
  {
   "cell_type": "code",
   "execution_count": 23,
   "metadata": {},
   "outputs": [
    {
     "data": {
      "text/plain": [
       "array([[0, 0],\n",
       "       [0, 1],\n",
       "       [0, 0]])"
      ]
     },
     "execution_count": 23,
     "metadata": {},
     "output_type": "execute_result"
    }
   ],
   "source": [
    "(true - pred)**2"
   ]
  },
  {
   "cell_type": "code",
   "execution_count": 24,
   "metadata": {},
   "outputs": [
    {
     "data": {
      "text/plain": [
       "1"
      ]
     },
     "execution_count": 24,
     "metadata": {},
     "output_type": "execute_result"
    }
   ],
   "source": [
    "#sum of squared differences\n",
    "np.sum((true - pred)**2)"
   ]
  },
  {
   "cell_type": "code",
   "execution_count": 27,
   "metadata": {},
   "outputs": [
    {
     "name": "stdout",
     "output_type": "stream",
     "text": [
      "1\n",
      "2\n",
      "3\n",
      "4\n",
      "5\n",
      "6\n",
      "7\n",
      "8\n",
      "9\n",
      "10\n"
     ]
    }
   ],
   "source": [
    "for i in range(10):\n",
    "    print(i+1)"
   ]
  },
  {
   "cell_type": "code",
   "execution_count": 12,
   "metadata": {},
   "outputs": [
    {
     "name": "stdout",
     "output_type": "stream",
     "text": [
      "    ID  value  value2\n",
      "0  id1    NaN    10.0\n",
      "1  id2    NaN    40.0\n",
      "2  id3   30.0     NaN\n",
      "Index([0, 1], dtype='int64')\n",
      "    ID  value  value2\n",
      "0  id1     10      10\n",
      "1  id2      3      20\n"
     ]
    },
    {
     "data": {
      "text/plain": [
       "109"
      ]
     },
     "execution_count": 12,
     "metadata": {},
     "output_type": "execute_result"
    }
   ],
   "source": [
    "import numpy as np \n",
    "import pandas as pd\n",
    "data_masked = {\n",
    "    'ID': ['id1', 'id2', 'id3'],\n",
    "    'value': [np.nan, np.nan, 30],\n",
    "    'value2': [10, 40, np.nan]\n",
    "}\n",
    "\n",
    "data_true = {\n",
    "    'ID': ['id1', 'id2', 'id3'],\n",
    "    'value': [10, 3, 30],\n",
    "    'value2': [10, 20, 30]\n",
    "}\n",
    "\n",
    "a = pd.DataFrame(data_masked)\n",
    "b= pd.DataFrame(data_true)\n",
    "print(a)\n",
    "#get all indices where value is null\n",
    "indices = a.loc[a['value'].isnull(), 'value'].index\n",
    "print(indices)\n",
    "\n",
    "print(b.loc[indices])\n",
    "np.sum(b.loc[indices, 'value'] ** 2)"
   ]
  },
  {
   "cell_type": "code",
   "execution_count": 13,
   "metadata": {},
   "outputs": [
    {
     "data": {
      "text/html": [
       "<div>\n",
       "<style scoped>\n",
       "    .dataframe tbody tr th:only-of-type {\n",
       "        vertical-align: middle;\n",
       "    }\n",
       "\n",
       "    .dataframe tbody tr th {\n",
       "        vertical-align: top;\n",
       "    }\n",
       "\n",
       "    .dataframe thead th {\n",
       "        text-align: right;\n",
       "    }\n",
       "</style>\n",
       "<table border=\"1\" class=\"dataframe\">\n",
       "  <thead>\n",
       "    <tr style=\"text-align: right;\">\n",
       "      <th></th>\n",
       "      <th>value</th>\n",
       "      <th>value2</th>\n",
       "    </tr>\n",
       "  </thead>\n",
       "  <tbody>\n",
       "    <tr>\n",
       "      <th>0</th>\n",
       "      <td>NaN</td>\n",
       "      <td>10.0</td>\n",
       "    </tr>\n",
       "    <tr>\n",
       "      <th>1</th>\n",
       "      <td>NaN</td>\n",
       "      <td>40.0</td>\n",
       "    </tr>\n",
       "    <tr>\n",
       "      <th>2</th>\n",
       "      <td>30.0</td>\n",
       "      <td>NaN</td>\n",
       "    </tr>\n",
       "  </tbody>\n",
       "</table>\n",
       "</div>"
      ],
      "text/plain": [
       "   value  value2\n",
       "0    NaN    10.0\n",
       "1    NaN    40.0\n",
       "2   30.0     NaN"
      ]
     },
     "execution_count": 13,
     "metadata": {},
     "output_type": "execute_result"
    }
   ],
   "source": [
    "#keep just 2nd two columns of a\n",
    "a.iloc[:, 1:]"
   ]
  },
  {
   "cell_type": "code",
   "execution_count": 2,
   "metadata": {},
   "outputs": [
    {
     "name": "stdout",
     "output_type": "stream",
     "text": [
      "(8907, 7) (8907, 7) (8907, 7)\n",
      "784.3082214125543 1575.1203458071443\n"
     ]
    }
   ],
   "source": [
    "import pandas as pd \n",
    "import numpy as np\n",
    "\n",
    "true = pd.read_csv('proturn_output_aj_ctrl/hl-data_filtered.csv')\n",
    "true = np.array(true.pivot(index='ID', columns='t', values='A0').reset_index().drop('ID', axis=1))\n",
    "\n",
    "mean = pd.read_csv('proturn_output_aj_ctrl/si_mean_4.csv')\n",
    "mean = np.array(mean.drop('Unnamed: 0', axis=1))\n",
    "\n",
    "knn = pd.read_csv('proturn_output_aj_ctrl/test_4.csv')\n",
    "\n",
    "knn = np.array(knn.drop(columns=['Unnamed: 0']))\n",
    "\n",
    "print(knn.shape, mean.shape, true.shape)\n",
    "\n",
    "er_mean = np.sum((true - mean)**2)\n",
    "er_dmi = np.sum((true - knn)**2)\n",
    "print(er_mean, er_dmi)\n"
   ]
  },
  {
   "cell_type": "code",
   "execution_count": null,
   "metadata": {},
   "outputs": [],
   "source": [
    "import pandas as pd\n",
    "import numpy as np\n",
    "import os\n",
    "\n",
    "filepath_common = 'proturn_output_'\n",
    "strains = ['aj', 'balbc', 'c57', 'cej', 'dba', 'fvb']\n",
    "exp = ['ctrl', 'iso']\n",
    "true_data_files = 'hl.out'\n",
    "mask = [1, 2, 3, 4, 5]\n",
    "output_dir = 'nrmse_k'\n",
    "folders = [filepath_common + s + '_' + e + '/' for s in strains for e in exp]\n",
    "os.makedirs(output_dir, exist_ok=True)\n",
    "\n",
    "def calculate_nrmse(imputed_data, true_data, method):\n",
    "    # Filter by well-fit peptides\n",
    "    imputed_data = imputed_data.loc[(imputed_data['R2'] >= 0.8) | (imputed_data['SS'] <= 0.05)]\n",
    "    imputed_data = imputed_data.loc[(imputed_data['k'] >= 0) & (imputed_data['k'] <= 100)]\n",
    "    true_data = true_data.loc[(true_data['R2'] >= 0.8)]\n",
    "\n",
    "    sse = 0\n",
    "    nf = 0\n",
    "    for prot in imputed_data['Uniprot'].unique():\n",
    "        if method == 'dmi':\n",
    "            # Imputed data for a specific protein\n",
    "            #imp_prot = imputed_data.loc[imputed_data['Uniprot'] == prot].groupby(['ID', 'Uniprot']).agg({'k': 'mean'}).reset_index()\n",
    "            # True data for a specific protein\n",
    "            t = true_data.loc[true_data['Uniprot'] == prot]\n",
    "            # Filter t so it only contains rows where ID is in imp_prot['ID']\n",
    "            t = t.loc[t['ID'].isin(imp_prot['ID'])]\n",
    "            error = np.median(t['k']) - np.median(imp_prot['k'])\n",
    "            sse += error**2\n",
    "            nf += np.median(t['k'])**2\n",
    "        else:\n",
    "            # Imputed data for a specific protein\n",
    "            imp_prot = imputed_data.loc[imputed_data['Uniprot'] == prot]\n",
    "            # True data for a specific protein\n",
    "            t = true_data.loc[true_data['Uniprot'] == prot]\n",
    "            # Filter t so it only contains rows where ID is in imp_prot['ID']\n",
    "            t = t.loc[t['ID'].isin(imp_prot['ID'])]\n",
    "            error = np.median(t['k']) - np.median(imp_prot['k'])\n",
    "            sse += error**2\n",
    "            nf += np.median(t['k'])**2\n",
    "\n",
    "    return sse, nf\n",
    "\n",
    "for m in mask:\n",
    "    sse_mask = 0\n",
    "    nf_mask = 0\n",
    "    for f in folders:\n",
    "        print(f)\n",
    "        true_path = f\"{f}{true_data_files}\"\n",
    "        imputed_path = f\"{f}ProTurn_imp_{m}.txt\"\n",
    "        if os.path.exists(true_path) and os.path.exists(imputed_path):\n",
    "            true = pd.read_csv(true_path, sep='\\t', low_memory=False)\n",
    "            imputed_dmi = pd.read_csv(imputed_path, sep='\\t', low_memory=False)\n",
    "            sse, nf = calculate_nrmse(imputed_dmi, true, 'dmi')\n",
    "            sse_mask += sse\n",
    "            nf_mask += nf\n",
    "        else:\n",
    "            print(f\"Missing file: {true_path} or {imputed_path}\")\n",
    "    if nf_mask > 0:\n",
    "        nrmse = np.sqrt(sse_mask / nf_mask)\n",
    "        print(f\"NRMSE for mask {m}: {nrmse}\")\n",
    "    else:\n",
    "        print(f\"No valid data for mask {m}\")\n"
   ]
  },
  {
   "cell_type": "code",
   "execution_count": 163,
   "metadata": {},
   "outputs": [
    {
     "name": "stdout",
     "output_type": "stream",
     "text": [
      "proturn_output_balbc_ctrl/\n"
     ]
    },
    {
     "name": "stderr",
     "output_type": "stream",
     "text": [
      "/Users/simhasankar/miniconda3/envs/dmi/lib/python3.12/site-packages/numpy/core/fromnumeric.py:3504: RuntimeWarning: Mean of empty slice.\n",
      "  return _methods._mean(a, axis=axis, dtype=dtype,\n",
      "/Users/simhasankar/miniconda3/envs/dmi/lib/python3.12/site-packages/numpy/core/_methods.py:129: RuntimeWarning: invalid value encountered in scalar divide\n",
      "  ret = ret.dtype.type(ret / rcount)\n",
      "/Users/simhasankar/miniconda3/envs/dmi/lib/python3.12/site-packages/numpy/core/fromnumeric.py:3504: RuntimeWarning: Mean of empty slice.\n",
      "  return _methods._mean(a, axis=axis, dtype=dtype,\n",
      "/Users/simhasankar/miniconda3/envs/dmi/lib/python3.12/site-packages/numpy/core/_methods.py:129: RuntimeWarning: invalid value encountered in scalar divide\n",
      "  ret = ret.dtype.type(ret / rcount)\n",
      "/Users/simhasankar/miniconda3/envs/dmi/lib/python3.12/site-packages/numpy/core/fromnumeric.py:3504: RuntimeWarning: Mean of empty slice.\n",
      "  return _methods._mean(a, axis=axis, dtype=dtype,\n",
      "/Users/simhasankar/miniconda3/envs/dmi/lib/python3.12/site-packages/numpy/core/_methods.py:129: RuntimeWarning: invalid value encountered in scalar divide\n",
      "  ret = ret.dtype.type(ret / rcount)\n",
      "/Users/simhasankar/miniconda3/envs/dmi/lib/python3.12/site-packages/numpy/core/fromnumeric.py:3504: RuntimeWarning: Mean of empty slice.\n",
      "  return _methods._mean(a, axis=axis, dtype=dtype,\n",
      "/Users/simhasankar/miniconda3/envs/dmi/lib/python3.12/site-packages/numpy/core/_methods.py:129: RuntimeWarning: invalid value encountered in scalar divide\n",
      "  ret = ret.dtype.type(ret / rcount)\n",
      "/Users/simhasankar/miniconda3/envs/dmi/lib/python3.12/site-packages/numpy/core/fromnumeric.py:3504: RuntimeWarning: Mean of empty slice.\n",
      "  return _methods._mean(a, axis=axis, dtype=dtype,\n",
      "/Users/simhasankar/miniconda3/envs/dmi/lib/python3.12/site-packages/numpy/core/_methods.py:129: RuntimeWarning: invalid value encountered in scalar divide\n",
      "  ret = ret.dtype.type(ret / rcount)\n",
      "/Users/simhasankar/miniconda3/envs/dmi/lib/python3.12/site-packages/numpy/core/fromnumeric.py:3504: RuntimeWarning: Mean of empty slice.\n",
      "  return _methods._mean(a, axis=axis, dtype=dtype,\n",
      "/Users/simhasankar/miniconda3/envs/dmi/lib/python3.12/site-packages/numpy/core/_methods.py:129: RuntimeWarning: invalid value encountered in scalar divide\n",
      "  ret = ret.dtype.type(ret / rcount)\n",
      "/Users/simhasankar/miniconda3/envs/dmi/lib/python3.12/site-packages/numpy/core/fromnumeric.py:3504: RuntimeWarning: Mean of empty slice.\n",
      "  return _methods._mean(a, axis=axis, dtype=dtype,\n",
      "/Users/simhasankar/miniconda3/envs/dmi/lib/python3.12/site-packages/numpy/core/_methods.py:129: RuntimeWarning: invalid value encountered in scalar divide\n",
      "  ret = ret.dtype.type(ret / rcount)\n",
      "/Users/simhasankar/miniconda3/envs/dmi/lib/python3.12/site-packages/numpy/core/fromnumeric.py:3504: RuntimeWarning: Mean of empty slice.\n",
      "  return _methods._mean(a, axis=axis, dtype=dtype,\n",
      "/Users/simhasankar/miniconda3/envs/dmi/lib/python3.12/site-packages/numpy/core/_methods.py:129: RuntimeWarning: invalid value encountered in scalar divide\n",
      "  ret = ret.dtype.type(ret / rcount)\n",
      "/Users/simhasankar/miniconda3/envs/dmi/lib/python3.12/site-packages/numpy/core/fromnumeric.py:3504: RuntimeWarning: Mean of empty slice.\n",
      "  return _methods._mean(a, axis=axis, dtype=dtype,\n",
      "/Users/simhasankar/miniconda3/envs/dmi/lib/python3.12/site-packages/numpy/core/_methods.py:129: RuntimeWarning: invalid value encountered in scalar divide\n",
      "  ret = ret.dtype.type(ret / rcount)\n",
      "/Users/simhasankar/miniconda3/envs/dmi/lib/python3.12/site-packages/numpy/core/fromnumeric.py:3504: RuntimeWarning: Mean of empty slice.\n",
      "  return _methods._mean(a, axis=axis, dtype=dtype,\n",
      "/Users/simhasankar/miniconda3/envs/dmi/lib/python3.12/site-packages/numpy/core/_methods.py:129: RuntimeWarning: invalid value encountered in scalar divide\n",
      "  ret = ret.dtype.type(ret / rcount)\n",
      "/Users/simhasankar/miniconda3/envs/dmi/lib/python3.12/site-packages/numpy/core/fromnumeric.py:3504: RuntimeWarning: Mean of empty slice.\n",
      "  return _methods._mean(a, axis=axis, dtype=dtype,\n",
      "/Users/simhasankar/miniconda3/envs/dmi/lib/python3.12/site-packages/numpy/core/_methods.py:129: RuntimeWarning: invalid value encountered in scalar divide\n",
      "  ret = ret.dtype.type(ret / rcount)\n",
      "/Users/simhasankar/miniconda3/envs/dmi/lib/python3.12/site-packages/numpy/core/fromnumeric.py:3504: RuntimeWarning: Mean of empty slice.\n",
      "  return _methods._mean(a, axis=axis, dtype=dtype,\n",
      "/Users/simhasankar/miniconda3/envs/dmi/lib/python3.12/site-packages/numpy/core/_methods.py:129: RuntimeWarning: invalid value encountered in scalar divide\n",
      "  ret = ret.dtype.type(ret / rcount)\n",
      "/Users/simhasankar/miniconda3/envs/dmi/lib/python3.12/site-packages/numpy/core/fromnumeric.py:3504: RuntimeWarning: Mean of empty slice.\n",
      "  return _methods._mean(a, axis=axis, dtype=dtype,\n",
      "/Users/simhasankar/miniconda3/envs/dmi/lib/python3.12/site-packages/numpy/core/_methods.py:129: RuntimeWarning: invalid value encountered in scalar divide\n",
      "  ret = ret.dtype.type(ret / rcount)\n",
      "/Users/simhasankar/miniconda3/envs/dmi/lib/python3.12/site-packages/numpy/core/fromnumeric.py:3504: RuntimeWarning: Mean of empty slice.\n",
      "  return _methods._mean(a, axis=axis, dtype=dtype,\n",
      "/Users/simhasankar/miniconda3/envs/dmi/lib/python3.12/site-packages/numpy/core/_methods.py:129: RuntimeWarning: invalid value encountered in scalar divide\n",
      "  ret = ret.dtype.type(ret / rcount)\n",
      "/Users/simhasankar/miniconda3/envs/dmi/lib/python3.12/site-packages/numpy/core/fromnumeric.py:3504: RuntimeWarning: Mean of empty slice.\n",
      "  return _methods._mean(a, axis=axis, dtype=dtype,\n",
      "/Users/simhasankar/miniconda3/envs/dmi/lib/python3.12/site-packages/numpy/core/_methods.py:129: RuntimeWarning: invalid value encountered in scalar divide\n",
      "  ret = ret.dtype.type(ret / rcount)\n",
      "/Users/simhasankar/miniconda3/envs/dmi/lib/python3.12/site-packages/numpy/core/fromnumeric.py:3504: RuntimeWarning: Mean of empty slice.\n",
      "  return _methods._mean(a, axis=axis, dtype=dtype,\n",
      "/Users/simhasankar/miniconda3/envs/dmi/lib/python3.12/site-packages/numpy/core/_methods.py:129: RuntimeWarning: invalid value encountered in scalar divide\n",
      "  ret = ret.dtype.type(ret / rcount)\n",
      "/Users/simhasankar/miniconda3/envs/dmi/lib/python3.12/site-packages/numpy/core/fromnumeric.py:3504: RuntimeWarning: Mean of empty slice.\n",
      "  return _methods._mean(a, axis=axis, dtype=dtype,\n",
      "/Users/simhasankar/miniconda3/envs/dmi/lib/python3.12/site-packages/numpy/core/_methods.py:129: RuntimeWarning: invalid value encountered in scalar divide\n",
      "  ret = ret.dtype.type(ret / rcount)\n",
      "/Users/simhasankar/miniconda3/envs/dmi/lib/python3.12/site-packages/numpy/core/fromnumeric.py:3504: RuntimeWarning: Mean of empty slice.\n",
      "  return _methods._mean(a, axis=axis, dtype=dtype,\n",
      "/Users/simhasankar/miniconda3/envs/dmi/lib/python3.12/site-packages/numpy/core/_methods.py:129: RuntimeWarning: invalid value encountered in scalar divide\n",
      "  ret = ret.dtype.type(ret / rcount)\n",
      "/Users/simhasankar/miniconda3/envs/dmi/lib/python3.12/site-packages/numpy/core/fromnumeric.py:3504: RuntimeWarning: Mean of empty slice.\n",
      "  return _methods._mean(a, axis=axis, dtype=dtype,\n",
      "/Users/simhasankar/miniconda3/envs/dmi/lib/python3.12/site-packages/numpy/core/_methods.py:129: RuntimeWarning: invalid value encountered in scalar divide\n",
      "  ret = ret.dtype.type(ret / rcount)\n",
      "/Users/simhasankar/miniconda3/envs/dmi/lib/python3.12/site-packages/numpy/core/fromnumeric.py:3504: RuntimeWarning: Mean of empty slice.\n",
      "  return _methods._mean(a, axis=axis, dtype=dtype,\n",
      "/Users/simhasankar/miniconda3/envs/dmi/lib/python3.12/site-packages/numpy/core/_methods.py:129: RuntimeWarning: invalid value encountered in scalar divide\n",
      "  ret = ret.dtype.type(ret / rcount)\n",
      "/Users/simhasankar/miniconda3/envs/dmi/lib/python3.12/site-packages/numpy/core/fromnumeric.py:3504: RuntimeWarning: Mean of empty slice.\n",
      "  return _methods._mean(a, axis=axis, dtype=dtype,\n",
      "/Users/simhasankar/miniconda3/envs/dmi/lib/python3.12/site-packages/numpy/core/_methods.py:129: RuntimeWarning: invalid value encountered in scalar divide\n",
      "  ret = ret.dtype.type(ret / rcount)\n",
      "/Users/simhasankar/miniconda3/envs/dmi/lib/python3.12/site-packages/numpy/core/fromnumeric.py:3504: RuntimeWarning: Mean of empty slice.\n",
      "  return _methods._mean(a, axis=axis, dtype=dtype,\n",
      "/Users/simhasankar/miniconda3/envs/dmi/lib/python3.12/site-packages/numpy/core/_methods.py:129: RuntimeWarning: invalid value encountered in scalar divide\n",
      "  ret = ret.dtype.type(ret / rcount)\n",
      "/Users/simhasankar/miniconda3/envs/dmi/lib/python3.12/site-packages/numpy/core/fromnumeric.py:3504: RuntimeWarning: Mean of empty slice.\n",
      "  return _methods._mean(a, axis=axis, dtype=dtype,\n",
      "/Users/simhasankar/miniconda3/envs/dmi/lib/python3.12/site-packages/numpy/core/_methods.py:129: RuntimeWarning: invalid value encountered in scalar divide\n",
      "  ret = ret.dtype.type(ret / rcount)\n",
      "/Users/simhasankar/miniconda3/envs/dmi/lib/python3.12/site-packages/numpy/core/fromnumeric.py:3504: RuntimeWarning: Mean of empty slice.\n",
      "  return _methods._mean(a, axis=axis, dtype=dtype,\n",
      "/Users/simhasankar/miniconda3/envs/dmi/lib/python3.12/site-packages/numpy/core/_methods.py:129: RuntimeWarning: invalid value encountered in scalar divide\n",
      "  ret = ret.dtype.type(ret / rcount)\n",
      "/Users/simhasankar/miniconda3/envs/dmi/lib/python3.12/site-packages/numpy/core/fromnumeric.py:3504: RuntimeWarning: Mean of empty slice.\n",
      "  return _methods._mean(a, axis=axis, dtype=dtype,\n",
      "/Users/simhasankar/miniconda3/envs/dmi/lib/python3.12/site-packages/numpy/core/_methods.py:129: RuntimeWarning: invalid value encountered in scalar divide\n",
      "  ret = ret.dtype.type(ret / rcount)\n",
      "/Users/simhasankar/miniconda3/envs/dmi/lib/python3.12/site-packages/numpy/core/fromnumeric.py:3504: RuntimeWarning: Mean of empty slice.\n",
      "  return _methods._mean(a, axis=axis, dtype=dtype,\n",
      "/Users/simhasankar/miniconda3/envs/dmi/lib/python3.12/site-packages/numpy/core/_methods.py:129: RuntimeWarning: invalid value encountered in scalar divide\n",
      "  ret = ret.dtype.type(ret / rcount)\n",
      "/Users/simhasankar/miniconda3/envs/dmi/lib/python3.12/site-packages/numpy/core/fromnumeric.py:3504: RuntimeWarning: Mean of empty slice.\n",
      "  return _methods._mean(a, axis=axis, dtype=dtype,\n",
      "/Users/simhasankar/miniconda3/envs/dmi/lib/python3.12/site-packages/numpy/core/_methods.py:129: RuntimeWarning: invalid value encountered in scalar divide\n",
      "  ret = ret.dtype.type(ret / rcount)\n",
      "/Users/simhasankar/miniconda3/envs/dmi/lib/python3.12/site-packages/numpy/core/fromnumeric.py:3504: RuntimeWarning: Mean of empty slice.\n",
      "  return _methods._mean(a, axis=axis, dtype=dtype,\n",
      "/Users/simhasankar/miniconda3/envs/dmi/lib/python3.12/site-packages/numpy/core/_methods.py:129: RuntimeWarning: invalid value encountered in scalar divide\n",
      "  ret = ret.dtype.type(ret / rcount)\n",
      "/Users/simhasankar/miniconda3/envs/dmi/lib/python3.12/site-packages/numpy/core/fromnumeric.py:3504: RuntimeWarning: Mean of empty slice.\n",
      "  return _methods._mean(a, axis=axis, dtype=dtype,\n",
      "/Users/simhasankar/miniconda3/envs/dmi/lib/python3.12/site-packages/numpy/core/_methods.py:129: RuntimeWarning: invalid value encountered in scalar divide\n",
      "  ret = ret.dtype.type(ret / rcount)\n",
      "/Users/simhasankar/miniconda3/envs/dmi/lib/python3.12/site-packages/numpy/core/fromnumeric.py:3504: RuntimeWarning: Mean of empty slice.\n",
      "  return _methods._mean(a, axis=axis, dtype=dtype,\n",
      "/Users/simhasankar/miniconda3/envs/dmi/lib/python3.12/site-packages/numpy/core/_methods.py:129: RuntimeWarning: invalid value encountered in scalar divide\n",
      "  ret = ret.dtype.type(ret / rcount)\n",
      "/Users/simhasankar/miniconda3/envs/dmi/lib/python3.12/site-packages/numpy/core/fromnumeric.py:3504: RuntimeWarning: Mean of empty slice.\n",
      "  return _methods._mean(a, axis=axis, dtype=dtype,\n",
      "/Users/simhasankar/miniconda3/envs/dmi/lib/python3.12/site-packages/numpy/core/_methods.py:129: RuntimeWarning: invalid value encountered in scalar divide\n",
      "  ret = ret.dtype.type(ret / rcount)\n",
      "/Users/simhasankar/miniconda3/envs/dmi/lib/python3.12/site-packages/numpy/core/fromnumeric.py:3504: RuntimeWarning: Mean of empty slice.\n",
      "  return _methods._mean(a, axis=axis, dtype=dtype,\n",
      "/Users/simhasankar/miniconda3/envs/dmi/lib/python3.12/site-packages/numpy/core/_methods.py:129: RuntimeWarning: invalid value encountered in scalar divide\n",
      "  ret = ret.dtype.type(ret / rcount)\n",
      "/Users/simhasankar/miniconda3/envs/dmi/lib/python3.12/site-packages/numpy/core/fromnumeric.py:3504: RuntimeWarning: Mean of empty slice.\n",
      "  return _methods._mean(a, axis=axis, dtype=dtype,\n",
      "/Users/simhasankar/miniconda3/envs/dmi/lib/python3.12/site-packages/numpy/core/_methods.py:129: RuntimeWarning: invalid value encountered in scalar divide\n",
      "  ret = ret.dtype.type(ret / rcount)\n",
      "/Users/simhasankar/miniconda3/envs/dmi/lib/python3.12/site-packages/numpy/core/fromnumeric.py:3504: RuntimeWarning: Mean of empty slice.\n",
      "  return _methods._mean(a, axis=axis, dtype=dtype,\n",
      "/Users/simhasankar/miniconda3/envs/dmi/lib/python3.12/site-packages/numpy/core/_methods.py:129: RuntimeWarning: invalid value encountered in scalar divide\n",
      "  ret = ret.dtype.type(ret / rcount)\n",
      "/Users/simhasankar/miniconda3/envs/dmi/lib/python3.12/site-packages/numpy/core/fromnumeric.py:3504: RuntimeWarning: Mean of empty slice.\n",
      "  return _methods._mean(a, axis=axis, dtype=dtype,\n",
      "/Users/simhasankar/miniconda3/envs/dmi/lib/python3.12/site-packages/numpy/core/_methods.py:129: RuntimeWarning: invalid value encountered in scalar divide\n",
      "  ret = ret.dtype.type(ret / rcount)\n"
     ]
    },
    {
     "name": "stdout",
     "output_type": "stream",
     "text": [
      "proturn_output_balbc_iso/\n"
     ]
    },
    {
     "name": "stderr",
     "output_type": "stream",
     "text": [
      "/Users/simhasankar/miniconda3/envs/dmi/lib/python3.12/site-packages/numpy/core/fromnumeric.py:3504: RuntimeWarning: Mean of empty slice.\n",
      "  return _methods._mean(a, axis=axis, dtype=dtype,\n",
      "/Users/simhasankar/miniconda3/envs/dmi/lib/python3.12/site-packages/numpy/core/_methods.py:129: RuntimeWarning: invalid value encountered in scalar divide\n",
      "  ret = ret.dtype.type(ret / rcount)\n",
      "/Users/simhasankar/miniconda3/envs/dmi/lib/python3.12/site-packages/numpy/core/fromnumeric.py:3504: RuntimeWarning: Mean of empty slice.\n",
      "  return _methods._mean(a, axis=axis, dtype=dtype,\n",
      "/Users/simhasankar/miniconda3/envs/dmi/lib/python3.12/site-packages/numpy/core/_methods.py:129: RuntimeWarning: invalid value encountered in scalar divide\n",
      "  ret = ret.dtype.type(ret / rcount)\n",
      "/Users/simhasankar/miniconda3/envs/dmi/lib/python3.12/site-packages/numpy/core/fromnumeric.py:3504: RuntimeWarning: Mean of empty slice.\n",
      "  return _methods._mean(a, axis=axis, dtype=dtype,\n",
      "/Users/simhasankar/miniconda3/envs/dmi/lib/python3.12/site-packages/numpy/core/_methods.py:129: RuntimeWarning: invalid value encountered in scalar divide\n",
      "  ret = ret.dtype.type(ret / rcount)\n",
      "/Users/simhasankar/miniconda3/envs/dmi/lib/python3.12/site-packages/numpy/core/fromnumeric.py:3504: RuntimeWarning: Mean of empty slice.\n",
      "  return _methods._mean(a, axis=axis, dtype=dtype,\n",
      "/Users/simhasankar/miniconda3/envs/dmi/lib/python3.12/site-packages/numpy/core/_methods.py:129: RuntimeWarning: invalid value encountered in scalar divide\n",
      "  ret = ret.dtype.type(ret / rcount)\n",
      "/Users/simhasankar/miniconda3/envs/dmi/lib/python3.12/site-packages/numpy/core/fromnumeric.py:3504: RuntimeWarning: Mean of empty slice.\n",
      "  return _methods._mean(a, axis=axis, dtype=dtype,\n",
      "/Users/simhasankar/miniconda3/envs/dmi/lib/python3.12/site-packages/numpy/core/_methods.py:129: RuntimeWarning: invalid value encountered in scalar divide\n",
      "  ret = ret.dtype.type(ret / rcount)\n"
     ]
    },
    {
     "ename": "KeyboardInterrupt",
     "evalue": "",
     "output_type": "error",
     "traceback": [
      "\u001b[0;31m---------------------------------------------------------------------------\u001b[0m",
      "\u001b[0;31mKeyboardInterrupt\u001b[0m                         Traceback (most recent call last)",
      "\u001b[1;32m/Users/simhasankar/Documents/imputation_masking_validation/scratchpad.ipynb Cell 13\u001b[0m line \u001b[0;36m3\n\u001b[1;32m     <a href='vscode-notebook-cell:/Users/simhasankar/Documents/imputation_masking_validation/scratchpad.ipynb#X32sZmlsZQ%3D%3D?line=29'>30</a>\u001b[0m     \u001b[39mpass\u001b[39;00m \n\u001b[1;32m     <a href='vscode-notebook-cell:/Users/simhasankar/Documents/imputation_masking_validation/scratchpad.ipynb#X32sZmlsZQ%3D%3D?line=30'>31</a>\u001b[0m \u001b[39melse\u001b[39;00m: \n\u001b[1;32m     <a href='vscode-notebook-cell:/Users/simhasankar/Documents/imputation_masking_validation/scratchpad.ipynb#X32sZmlsZQ%3D%3D?line=31'>32</a>\u001b[0m     \u001b[39m#imputed data for a specific protein\u001b[39;00m\n\u001b[1;32m     <a href='vscode-notebook-cell:/Users/simhasankar/Documents/imputation_masking_validation/scratchpad.ipynb#X32sZmlsZQ%3D%3D?line=32'>33</a>\u001b[0m     \u001b[39m#prot = \"Q91VM9\"\u001b[39;00m\n\u001b[0;32m---> <a href='vscode-notebook-cell:/Users/simhasankar/Documents/imputation_masking_validation/scratchpad.ipynb#X32sZmlsZQ%3D%3D?line=33'>34</a>\u001b[0m     imp_prot \u001b[39m=\u001b[39m imputed_dmi\u001b[39m.\u001b[39;49mloc[imputed_dmi[\u001b[39m'\u001b[39;49m\u001b[39mUniprot\u001b[39;49m\u001b[39m'\u001b[39;49m] \u001b[39m==\u001b[39;49m prot]\u001b[39m.\u001b[39;49mgroupby([\u001b[39m'\u001b[39;49m\u001b[39mID\u001b[39;49m\u001b[39m'\u001b[39;49m, \u001b[39m'\u001b[39;49m\u001b[39mUniprot\u001b[39;49m\u001b[39m'\u001b[39;49m])\u001b[39m.\u001b[39;49magg({\u001b[39m'\u001b[39;49m\u001b[39mk\u001b[39;49m\u001b[39m'\u001b[39;49m: \u001b[39m'\u001b[39;49m\u001b[39mmean\u001b[39;49m\u001b[39m'\u001b[39;49m})\u001b[39m.\u001b[39;49mreset_index()\n\u001b[1;32m     <a href='vscode-notebook-cell:/Users/simhasankar/Documents/imputation_masking_validation/scratchpad.ipynb#X32sZmlsZQ%3D%3D?line=34'>35</a>\u001b[0m     \u001b[39m#true data for a specific protein\u001b[39;00m\n\u001b[1;32m     <a href='vscode-notebook-cell:/Users/simhasankar/Documents/imputation_masking_validation/scratchpad.ipynb#X32sZmlsZQ%3D%3D?line=35'>36</a>\u001b[0m     t \u001b[39m=\u001b[39m true\u001b[39m.\u001b[39mloc[true[\u001b[39m'\u001b[39m\u001b[39mUniprot\u001b[39m\u001b[39m'\u001b[39m] \u001b[39m==\u001b[39m prot][[\u001b[39m'\u001b[39m\u001b[39mID\u001b[39m\u001b[39m'\u001b[39m, \u001b[39m'\u001b[39m\u001b[39mUniprot\u001b[39m\u001b[39m'\u001b[39m,\u001b[39m'\u001b[39m\u001b[39mk\u001b[39m\u001b[39m'\u001b[39m]]\n",
      "File \u001b[0;32m~/miniconda3/envs/dmi/lib/python3.12/site-packages/pandas/core/frame.py:6459\u001b[0m, in \u001b[0;36mDataFrame.reset_index\u001b[0;34m(self, level, drop, inplace, col_level, col_fill, allow_duplicates, names)\u001b[0m\n\u001b[1;32m   6453\u001b[0m         \u001b[39mif\u001b[39;00m lab \u001b[39mis\u001b[39;00m \u001b[39mnot\u001b[39;00m \u001b[39mNone\u001b[39;00m:\n\u001b[1;32m   6454\u001b[0m             \u001b[39m# if we have the codes, extract the values with a mask\u001b[39;00m\n\u001b[1;32m   6455\u001b[0m             level_values \u001b[39m=\u001b[39m algorithms\u001b[39m.\u001b[39mtake(\n\u001b[1;32m   6456\u001b[0m                 level_values, lab, allow_fill\u001b[39m=\u001b[39m\u001b[39mTrue\u001b[39;00m, fill_value\u001b[39m=\u001b[39mlev\u001b[39m.\u001b[39m_na_value\n\u001b[1;32m   6457\u001b[0m             )\n\u001b[0;32m-> 6459\u001b[0m         new_obj\u001b[39m.\u001b[39;49minsert(\n\u001b[1;32m   6460\u001b[0m             \u001b[39m0\u001b[39;49m,\n\u001b[1;32m   6461\u001b[0m             name,\n\u001b[1;32m   6462\u001b[0m             level_values,\n\u001b[1;32m   6463\u001b[0m             allow_duplicates\u001b[39m=\u001b[39;49mallow_duplicates,\n\u001b[1;32m   6464\u001b[0m         )\n\u001b[1;32m   6466\u001b[0m new_obj\u001b[39m.\u001b[39mindex \u001b[39m=\u001b[39m new_index\n\u001b[1;32m   6467\u001b[0m \u001b[39mif\u001b[39;00m \u001b[39mnot\u001b[39;00m inplace:\n",
      "File \u001b[0;32m~/miniconda3/envs/dmi/lib/python3.12/site-packages/pandas/core/frame.py:5159\u001b[0m, in \u001b[0;36mDataFrame.insert\u001b[0;34m(self, loc, column, value, allow_duplicates)\u001b[0m\n\u001b[1;32m   5156\u001b[0m     value \u001b[39m=\u001b[39m value\u001b[39m.\u001b[39miloc[:, \u001b[39m0\u001b[39m]\n\u001b[1;32m   5158\u001b[0m value, refs \u001b[39m=\u001b[39m \u001b[39mself\u001b[39m\u001b[39m.\u001b[39m_sanitize_column(value)\n\u001b[0;32m-> 5159\u001b[0m \u001b[39mself\u001b[39;49m\u001b[39m.\u001b[39;49m_mgr\u001b[39m.\u001b[39;49minsert(loc, column, value, refs\u001b[39m=\u001b[39;49mrefs)\n",
      "File \u001b[0;32m~/miniconda3/envs/dmi/lib/python3.12/site-packages/pandas/core/internals/managers.py:1385\u001b[0m, in \u001b[0;36mBlockManager.insert\u001b[0;34m(self, loc, item, value, refs)\u001b[0m\n\u001b[1;32m   1383\u001b[0m \u001b[39melse\u001b[39;00m:\n\u001b[1;32m   1384\u001b[0m     \u001b[39mself\u001b[39m\u001b[39m.\u001b[39m_insert_update_mgr_locs(loc)\n\u001b[0;32m-> 1385\u001b[0m     \u001b[39mself\u001b[39;49m\u001b[39m.\u001b[39;49m_insert_update_blklocs_and_blknos(loc)\n\u001b[1;32m   1387\u001b[0m \u001b[39mself\u001b[39m\u001b[39m.\u001b[39maxes[\u001b[39m0\u001b[39m] \u001b[39m=\u001b[39m new_axis\n\u001b[1;32m   1388\u001b[0m \u001b[39mself\u001b[39m\u001b[39m.\u001b[39mblocks \u001b[39m+\u001b[39m\u001b[39m=\u001b[39m (block,)\n",
      "File \u001b[0;32m~/miniconda3/envs/dmi/lib/python3.12/site-packages/pandas/core/internals/managers.py:1425\u001b[0m, in \u001b[0;36mBlockManager._insert_update_blklocs_and_blknos\u001b[0;34m(self, loc)\u001b[0m\n\u001b[1;32m   1422\u001b[0m     \u001b[39mself\u001b[39m\u001b[39m.\u001b[39m_blknos \u001b[39m=\u001b[39m np\u001b[39m.\u001b[39mappend(\u001b[39mself\u001b[39m\u001b[39m.\u001b[39m_blknos, \u001b[39mlen\u001b[39m(\u001b[39mself\u001b[39m\u001b[39m.\u001b[39mblocks))\n\u001b[1;32m   1423\u001b[0m \u001b[39melif\u001b[39;00m loc \u001b[39m==\u001b[39m \u001b[39m0\u001b[39m:\n\u001b[1;32m   1424\u001b[0m     \u001b[39m# np.append is a lot faster, let's use it if we can.\u001b[39;00m\n\u001b[0;32m-> 1425\u001b[0m     \u001b[39mself\u001b[39m\u001b[39m.\u001b[39m_blklocs \u001b[39m=\u001b[39m np\u001b[39m.\u001b[39;49mappend(\u001b[39mself\u001b[39;49m\u001b[39m.\u001b[39;49m_blklocs[::\u001b[39m-\u001b[39;49m\u001b[39m1\u001b[39;49m], \u001b[39m0\u001b[39;49m)[::\u001b[39m-\u001b[39m\u001b[39m1\u001b[39m]\n\u001b[1;32m   1426\u001b[0m     \u001b[39mself\u001b[39m\u001b[39m.\u001b[39m_blknos \u001b[39m=\u001b[39m np\u001b[39m.\u001b[39mappend(\u001b[39mself\u001b[39m\u001b[39m.\u001b[39m_blknos[::\u001b[39m-\u001b[39m\u001b[39m1\u001b[39m], \u001b[39mlen\u001b[39m(\u001b[39mself\u001b[39m\u001b[39m.\u001b[39mblocks))[::\u001b[39m-\u001b[39m\u001b[39m1\u001b[39m]\n\u001b[1;32m   1427\u001b[0m \u001b[39melse\u001b[39;00m:\n",
      "File \u001b[0;32m~/miniconda3/envs/dmi/lib/python3.12/site-packages/numpy/lib/function_base.py:5618\u001b[0m, in \u001b[0;36mappend\u001b[0;34m(arr, values, axis)\u001b[0m\n\u001b[1;32m   5616\u001b[0m     values \u001b[39m=\u001b[39m ravel(values)\n\u001b[1;32m   5617\u001b[0m     axis \u001b[39m=\u001b[39m arr\u001b[39m.\u001b[39mndim\u001b[39m-\u001b[39m\u001b[39m1\u001b[39m\n\u001b[0;32m-> 5618\u001b[0m \u001b[39mreturn\u001b[39;00m concatenate((arr, values), axis\u001b[39m=\u001b[39;49maxis)\n",
      "\u001b[0;31mKeyboardInterrupt\u001b[0m: "
     ]
    }
   ],
   "source": [
    "import pandas as pd\n",
    "import numpy as np\n",
    "import os\n",
    "\n",
    "filepath_common = 'proturn_output_'\n",
    "strains = ['balbc', 'c57', 'cej', 'dba', 'fvb']\n",
    "exp = ['ctrl', 'iso']\n",
    "true_data_files = 'hl.out'\n",
    "mask = [1, 2, 3, 4, 5]\n",
    "folders = [filepath_common + s + '_' + e + '/' for s in strains for e in exp]\n",
    "output_dir = 'nrmse_k'\n",
    "os.makedirs(output_dir, exist_ok=True)\n",
    "\n",
    "for m in mask:\n",
    "    sse_mask = 0\n",
    "    nf_mask = 0\n",
    "    for f in folders:\n",
    "        print(f)\n",
    "        true_path = f\"{f}{true_data_files}\"\n",
    "        imputed_path = f\"{f}ProTurn_imp_{m}.txt\"\n",
    "        \n",
    "        true = pd.read_csv(true_path, sep='\\t', low_memory=False)\n",
    "        true = true.loc[(true['R2'] >= 0.8)]\n",
    "        imputed_dmi = pd.read_csv(imputed_path, sep='\\t', low_memory=False)\n",
    "        imputed_dmi = imputed_dmi.loc[(imputed_dmi['R2'] >= 0.8)] #| (imputed_dmi['SS'] <= 0.05)]\n",
    "        imputed_dmi = imputed_dmi.loc[(imputed_dmi['k'] >= 0) & (imputed_dmi['k'] <= 50)]\n",
    "        \n",
    "        sse = 0\n",
    "        nf = 0\n",
    "        for prot in imputed_dmi.Uniprot.unique():\n",
    "            if prot not in true.Uniprot.unique():\n",
    "                pass \n",
    "            else: \n",
    "                #imputed data for a specific protein\n",
    "                imp_prot = imputed_dmi.loc[imputed_dmi['Uniprot'] == prot].groupby(['ID', 'Uniprot']).agg({'k': 'mean'}).reset_index()\n",
    "                #true data for a specific protein\n",
    "                t = true.loc[true['Uniprot'] == prot][['ID', 'Uniprot','k']]\n",
    "                #find interesection of IDs between imputed and true data\n",
    "                imp_prot = imp_prot.loc[imp_prot['ID'].isin(t['ID'])]\n",
    "                t = t.loc[t['ID'].isin(imp_prot['ID'])]\n",
    "                #print(imp_prot)\n",
    "                #print(t)\n",
    "            \n",
    "                error = np.median(t['k']) - np.median(imp_prot['k'])\n",
    "                sse += error**2\n",
    "                nf += np.median(t['k'])**2\n",
    "                #print(sse, nf)\n",
    "        sse_mask += sse\n",
    "        nf_mask += nf\n",
    "    nrmse = np.sqrt(sse_mask/nf_mask) \n",
    "    print(f\"{nrmse} for {m}\")\n",
    "    #with open(f'{output_dir}/nrmse_k.csv', 'a') as f:\n",
    "    #            f.write(f'{nrmse},{m},dmi\\n')\n",
    "    break\n",
    "\n",
    "    "
   ]
  },
  {
   "cell_type": "code",
   "execution_count": null,
   "metadata": {},
   "outputs": [],
   "source": []
  }
 ],
 "metadata": {
  "kernelspec": {
   "display_name": "dmi",
   "language": "python",
   "name": "python3"
  },
  "language_info": {
   "codemirror_mode": {
    "name": "ipython",
    "version": 3
   },
   "file_extension": ".py",
   "mimetype": "text/x-python",
   "name": "python",
   "nbconvert_exporter": "python",
   "pygments_lexer": "ipython3",
   "version": "3.12.3"
  }
 },
 "nbformat": 4,
 "nbformat_minor": 2
}
