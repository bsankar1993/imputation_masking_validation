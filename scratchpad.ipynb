{
 "cells": [
  {
   "cell_type": "code",
   "execution_count": 16,
   "metadata": {},
   "outputs": [],
   "source": [
    "filepath_common = 'proturn_output_'\n",
    "strains = ['aj', 'balbc', 'c57', 'cej', 'dba', 'fvb']\n",
    "exp = ['ctrl', 'iso'] \n",
    "hl = 'hl.out'\n",
    "dat = 'hl-data_masked'\n",
    "mask = [1,2,3,4]"
   ]
  },
  {
   "cell_type": "code",
   "execution_count": 17,
   "metadata": {},
   "outputs": [
    {
     "name": "stdout",
     "output_type": "stream",
     "text": [
      "Rscript mice.R 1 proturn_output_aj_ctrl/hl.out proturn_output_aj_ctrl/hl-data_masked_1.csv\n",
      "Rscript mice.R 2 proturn_output_aj_ctrl/hl.out proturn_output_aj_ctrl/hl-data_masked_2.csv\n",
      "Rscript mice.R 3 proturn_output_aj_ctrl/hl.out proturn_output_aj_ctrl/hl-data_masked_3.csv\n",
      "Rscript mice.R 4 proturn_output_aj_ctrl/hl.out proturn_output_aj_ctrl/hl-data_masked_4.csv\n",
      "Rscript mice.R 1 proturn_output_aj_iso/hl.out proturn_output_aj_iso/hl-data_masked_1.csv\n",
      "Rscript mice.R 2 proturn_output_aj_iso/hl.out proturn_output_aj_iso/hl-data_masked_2.csv\n",
      "Rscript mice.R 3 proturn_output_aj_iso/hl.out proturn_output_aj_iso/hl-data_masked_3.csv\n",
      "Rscript mice.R 4 proturn_output_aj_iso/hl.out proturn_output_aj_iso/hl-data_masked_4.csv\n",
      "Rscript mice.R 1 proturn_output_balbc_ctrl/hl.out proturn_output_balbc_ctrl/hl-data_masked_1.csv\n",
      "Rscript mice.R 2 proturn_output_balbc_ctrl/hl.out proturn_output_balbc_ctrl/hl-data_masked_2.csv\n",
      "Rscript mice.R 3 proturn_output_balbc_ctrl/hl.out proturn_output_balbc_ctrl/hl-data_masked_3.csv\n",
      "Rscript mice.R 4 proturn_output_balbc_ctrl/hl.out proturn_output_balbc_ctrl/hl-data_masked_4.csv\n",
      "Rscript mice.R 1 proturn_output_balbc_iso/hl.out proturn_output_balbc_iso/hl-data_masked_1.csv\n",
      "Rscript mice.R 2 proturn_output_balbc_iso/hl.out proturn_output_balbc_iso/hl-data_masked_2.csv\n",
      "Rscript mice.R 3 proturn_output_balbc_iso/hl.out proturn_output_balbc_iso/hl-data_masked_3.csv\n",
      "Rscript mice.R 4 proturn_output_balbc_iso/hl.out proturn_output_balbc_iso/hl-data_masked_4.csv\n",
      "Rscript mice.R 1 proturn_output_c57_ctrl/hl.out proturn_output_c57_ctrl/hl-data_masked_1.csv\n",
      "Rscript mice.R 2 proturn_output_c57_ctrl/hl.out proturn_output_c57_ctrl/hl-data_masked_2.csv\n",
      "Rscript mice.R 3 proturn_output_c57_ctrl/hl.out proturn_output_c57_ctrl/hl-data_masked_3.csv\n",
      "Rscript mice.R 4 proturn_output_c57_ctrl/hl.out proturn_output_c57_ctrl/hl-data_masked_4.csv\n",
      "Rscript mice.R 1 proturn_output_c57_iso/hl.out proturn_output_c57_iso/hl-data_masked_1.csv\n",
      "Rscript mice.R 2 proturn_output_c57_iso/hl.out proturn_output_c57_iso/hl-data_masked_2.csv\n",
      "Rscript mice.R 3 proturn_output_c57_iso/hl.out proturn_output_c57_iso/hl-data_masked_3.csv\n",
      "Rscript mice.R 4 proturn_output_c57_iso/hl.out proturn_output_c57_iso/hl-data_masked_4.csv\n",
      "Rscript mice.R 1 proturn_output_cej_ctrl/hl.out proturn_output_cej_ctrl/hl-data_masked_1.csv\n",
      "Rscript mice.R 2 proturn_output_cej_ctrl/hl.out proturn_output_cej_ctrl/hl-data_masked_2.csv\n",
      "Rscript mice.R 3 proturn_output_cej_ctrl/hl.out proturn_output_cej_ctrl/hl-data_masked_3.csv\n",
      "Rscript mice.R 4 proturn_output_cej_ctrl/hl.out proturn_output_cej_ctrl/hl-data_masked_4.csv\n",
      "Rscript mice.R 1 proturn_output_cej_iso/hl.out proturn_output_cej_iso/hl-data_masked_1.csv\n",
      "Rscript mice.R 2 proturn_output_cej_iso/hl.out proturn_output_cej_iso/hl-data_masked_2.csv\n",
      "Rscript mice.R 3 proturn_output_cej_iso/hl.out proturn_output_cej_iso/hl-data_masked_3.csv\n",
      "Rscript mice.R 4 proturn_output_cej_iso/hl.out proturn_output_cej_iso/hl-data_masked_4.csv\n",
      "Rscript mice.R 1 proturn_output_dba_ctrl/hl.out proturn_output_dba_ctrl/hl-data_masked_1.csv\n",
      "Rscript mice.R 2 proturn_output_dba_ctrl/hl.out proturn_output_dba_ctrl/hl-data_masked_2.csv\n",
      "Rscript mice.R 3 proturn_output_dba_ctrl/hl.out proturn_output_dba_ctrl/hl-data_masked_3.csv\n",
      "Rscript mice.R 4 proturn_output_dba_ctrl/hl.out proturn_output_dba_ctrl/hl-data_masked_4.csv\n",
      "Rscript mice.R 1 proturn_output_dba_iso/hl.out proturn_output_dba_iso/hl-data_masked_1.csv\n",
      "Rscript mice.R 2 proturn_output_dba_iso/hl.out proturn_output_dba_iso/hl-data_masked_2.csv\n",
      "Rscript mice.R 3 proturn_output_dba_iso/hl.out proturn_output_dba_iso/hl-data_masked_3.csv\n",
      "Rscript mice.R 4 proturn_output_dba_iso/hl.out proturn_output_dba_iso/hl-data_masked_4.csv\n",
      "Rscript mice.R 1 proturn_output_fvb_ctrl/hl.out proturn_output_fvb_ctrl/hl-data_masked_1.csv\n",
      "Rscript mice.R 2 proturn_output_fvb_ctrl/hl.out proturn_output_fvb_ctrl/hl-data_masked_2.csv\n",
      "Rscript mice.R 3 proturn_output_fvb_ctrl/hl.out proturn_output_fvb_ctrl/hl-data_masked_3.csv\n",
      "Rscript mice.R 4 proturn_output_fvb_ctrl/hl.out proturn_output_fvb_ctrl/hl-data_masked_4.csv\n",
      "Rscript mice.R 1 proturn_output_fvb_iso/hl.out proturn_output_fvb_iso/hl-data_masked_1.csv\n",
      "Rscript mice.R 2 proturn_output_fvb_iso/hl.out proturn_output_fvb_iso/hl-data_masked_2.csv\n",
      "Rscript mice.R 3 proturn_output_fvb_iso/hl.out proturn_output_fvb_iso/hl-data_masked_3.csv\n",
      "Rscript mice.R 4 proturn_output_fvb_iso/hl.out proturn_output_fvb_iso/hl-data_masked_4.csv\n"
     ]
    }
   ],
   "source": [
    "for s in strains: \n",
    "    for e in exp: \n",
    "        for i in mask: \n",
    "            print(f'Rscript mice.R {i} {filepath_common}{s}_{e}/{hl} {filepath_common}{s}_{e}/{dat}_{i}.csv')"
   ]
  },
  {
   "cell_type": "code",
   "execution_count": null,
   "metadata": {},
   "outputs": [],
   "source": []
  }
 ],
 "metadata": {
  "kernelspec": {
   "display_name": "dmi",
   "language": "python",
   "name": "python3"
  },
  "language_info": {
   "codemirror_mode": {
    "name": "ipython",
    "version": 3
   },
   "file_extension": ".py",
   "mimetype": "text/x-python",
   "name": "python",
   "nbconvert_exporter": "python",
   "pygments_lexer": "ipython3",
   "version": "3.12.3"
  }
 },
 "nbformat": 4,
 "nbformat_minor": 2
}
